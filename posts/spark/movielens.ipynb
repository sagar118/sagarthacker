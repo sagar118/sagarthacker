{
 "cells": [
  {
   "attachments": {},
   "cell_type": "markdown",
   "metadata": {
    "tags": []
   },
   "source": [
    "---\n",
    "title: \"Movie Lens - Collaborative Filtering based Recommendation System\"\n",
    "description: \"Movie Recommendation Using PySpark\"\n",
    "author: \"Sagar Thacker\"\n",
    "date: \"2022-01-20\"\n",
    "categories: [PySpark]\n",
    "image: \"movie-recommendation.jpeg\"\n",
    "format:\n",
    "    html:\n",
    "        toc: true\n",
    "        code-overflow: wrap\n",
    "        code-line-numbers: true\n",
    "jupyter: python3\n",
    "---\n"
   ]
  },
  {
   "attachments": {},
   "cell_type": "markdown",
   "metadata": {},
   "source": [
    "Recommendation System are build by analyzing the user and product interation data. It can be used to give item suggestion to a user or predict how a user would rate the an item.\n",
    "\n",
    "Recommendation System have mainly have three approaches:\n",
    "\n",
    "1. Content Based Filtering\n",
    "2. Collaborative Filtering\n",
    "3. Hybrid Approach\n",
    "\n",
    "In this notebook, Alternating Least Squares (ALS) matrix factorization algorithm with the use of Apache Spark APIs to predict the ratings of movies in the MovieLens Dataset.\n",
    "\n",
    "ALS attempts to estimate the ratings matrix R as the product of two lower-rank matrices, `X` and `Y`, i.e. `X * Yt = R`. Typically these approximations are called ‘**factor**’ matrices. The general approach is iterative. During each iteration, one of the factor matrices is held constant, while the other is solved for using least squares. The newly-solved factor matrix is then held constant while solving for the other factor matrix ([source](https://spark.apache.org/docs/latest/api/python/reference/api/pyspark.ml.recommendation.ALS.html)).\n"
   ]
  },
  {
   "cell_type": "code",
   "execution_count": 55,
   "metadata": {
    "execution": {
     "iopub.execute_input": "2023-01-21T02:59:12.356914Z",
     "iopub.status.busy": "2023-01-21T02:59:12.356349Z",
     "iopub.status.idle": "2023-01-21T02:59:12.369608Z",
     "shell.execute_reply": "2023-01-21T02:59:12.368399Z",
     "shell.execute_reply.started": "2023-01-21T02:59:12.356870Z"
    }
   },
   "outputs": [],
   "source": [
    "# | code-fold: true\n",
    "# Import necessary libraries\n",
    "import numpy as np\n",
    "import pandas as pd\n",
    "import matplotlib.pyplot as plt\n",
    "import seaborn as sns\n",
    "import os\n",
    "import warnings\n",
    "\n",
    "from pyspark.sql import SparkSession\n",
    "from pyspark.sql import functions as F\n",
    "from pyspark.ml.recommendation import ALS\n",
    "from pyspark.ml.evaluation import RegressionEvaluator\n",
    "from pyspark.ml.tuning import CrossValidator, ParamGridBuilder\n",
    "\n",
    "%matplotlib inline\n",
    "os.environ[\"PYSPARK_PYTHON\"] = \"python3\"\n",
    "warnings.filterwarnings('ignore')\n"
   ]
  },
  {
   "attachments": {},
   "cell_type": "markdown",
   "metadata": {},
   "source": [
    "## 1. Data Description\n",
    "\n",
    "MovieLens 25M movie ratings. Stable benchmark dataset. 25 million ratings and one million tag applications applied to 62,000 movies by 162,000 users.\n",
    "\n",
    "a. `movies.csv`: Movie information is contained in the file `movies.csv`. Each line of this file after the header row represents one movie, and has the following format: `movieId,title,genres`\n",
    "\n",
    "Genres are a pipe-separated list, and are selected from the following:\n",
    "\n",
    "-   Action\n",
    "-   Adventure\n",
    "-   Animation\n",
    "-   Children's\n",
    "-   Comedy\n",
    "-   Crime\n",
    "-   Documentary\n",
    "-   Drama\n",
    "-   Fantasy\n",
    "-   Film-Noir\n",
    "-   Horror\n",
    "-   Musical\n",
    "-   Mystery\n",
    "-   Romance\n",
    "-   Sci-Fi\n",
    "-   Thriller\n",
    "-   War\n",
    "-   Western\n",
    "-   (no genres listed)\n",
    "\n",
    "b. `rating.csv`: All ratings are contained in the file `rating.csv`. Each line of this file after the header row represents one rating of one movie by one user, and has the following format: `userId,movieId,rating,timestamp`\n",
    "\n",
    "The lines within this file are ordered first by userId, then, within user, by movieId.\n",
    "\n",
    "Ratings are made on a 5-star scale, with half-star increments (0.5 stars - 5.0 stars).\n",
    "\n",
    "Timestamps represent seconds since midnight Coordinated Universal Time (UTC) of January 1, 1970.\n"
   ]
  },
  {
   "attachments": {},
   "cell_type": "markdown",
   "metadata": {},
   "source": [
    "## 2. Overview Structure and Data Content\n"
   ]
  },
  {
   "cell_type": "code",
   "execution_count": 3,
   "metadata": {
    "execution": {
     "iopub.execute_input": "2023-01-21T01:45:10.074073Z",
     "iopub.status.busy": "2023-01-21T01:45:10.073458Z",
     "iopub.status.idle": "2023-01-21T01:45:16.286220Z",
     "shell.execute_reply": "2023-01-21T01:45:16.284801Z",
     "shell.execute_reply.started": "2023-01-21T01:45:10.074012Z"
    }
   },
   "outputs": [
    {
     "name": "stderr",
     "output_type": "stream",
     "text": [
      "Setting default log level to \"WARN\".\n",
      "To adjust logging level use sc.setLogLevel(newLevel). For SparkR, use setLogLevel(newLevel).\n"
     ]
    },
    {
     "name": "stdout",
     "output_type": "stream",
     "text": [
      "23/01/21 01:45:14 WARN NativeCodeLoader: Unable to load native-hadoop library for your platform... using builtin-java classes where applicable\n"
     ]
    }
   ],
   "source": [
    "# Create a spark session\n",
    "spark = SparkSession.builder.appName(\n",
    "    \"movie-lens-recommendation\").config(\"spark.driver.memory\", \"16g\").getOrCreate()\n",
    "spark.sparkContext.setLogLevel(\"ERROR\")\n"
   ]
  },
  {
   "cell_type": "code",
   "execution_count": 4,
   "metadata": {
    "execution": {
     "iopub.execute_input": "2023-01-21T01:45:17.689643Z",
     "iopub.status.busy": "2023-01-21T01:45:17.688564Z",
     "iopub.status.idle": "2023-01-21T01:45:48.938137Z",
     "shell.execute_reply": "2023-01-21T01:45:48.937248Z",
     "shell.execute_reply.started": "2023-01-21T01:45:17.689596Z"
    }
   },
   "outputs": [
    {
     "name": "stderr",
     "output_type": "stream",
     "text": [
      "                                                                                \r"
     ]
    }
   ],
   "source": [
    "# Read dataset\n",
    "__dirname = '../input/movielens-20m-dataset/'\n",
    "movies = spark.read.csv(__dirname + 'movie.csv', header=True, inferSchema=True)\n",
    "ratings = spark.read.csv(__dirname + 'rating.csv',\n",
    "                         header=True, inferSchema=True)\n"
   ]
  },
  {
   "cell_type": "code",
   "execution_count": 5,
   "metadata": {
    "execution": {
     "iopub.execute_input": "2023-01-21T01:45:48.940792Z",
     "iopub.status.busy": "2023-01-21T01:45:48.939598Z",
     "iopub.status.idle": "2023-01-21T01:45:55.106976Z",
     "shell.execute_reply": "2023-01-21T01:45:55.105749Z",
     "shell.execute_reply.started": "2023-01-21T01:45:48.940756Z"
    }
   },
   "outputs": [
    {
     "name": "stdout",
     "output_type": "stream",
     "text": [
      "Movies has 27278 rows and 3 columns\n"
     ]
    },
    {
     "name": "stderr",
     "output_type": "stream",
     "text": [
      "[Stage 7:=================================================>         (5 + 1) / 6]\r"
     ]
    },
    {
     "name": "stdout",
     "output_type": "stream",
     "text": [
      "Ratings has 20000263 rows and 4 colunms\n"
     ]
    },
    {
     "name": "stderr",
     "output_type": "stream",
     "text": [
      "                                                                                \r"
     ]
    }
   ],
   "source": [
    "# Shape of the datasets\n",
    "print(f'Movies has {movies.count()} rows and {len(movies.columns)} columns')\n",
    "print(f'Ratings has {ratings.count()} rows and {len(ratings.columns)} colunms')\n"
   ]
  },
  {
   "cell_type": "code",
   "execution_count": 7,
   "metadata": {
    "execution": {
     "iopub.execute_input": "2023-01-21T01:47:39.220923Z",
     "iopub.status.busy": "2023-01-21T01:47:39.220526Z",
     "iopub.status.idle": "2023-01-21T01:47:39.416148Z",
     "shell.execute_reply": "2023-01-21T01:47:39.415111Z",
     "shell.execute_reply.started": "2023-01-21T01:47:39.220892Z"
    }
   },
   "outputs": [
    {
     "name": "stdout",
     "output_type": "stream",
     "text": [
      "+-------+----------------------------------+-------------------------------------------+\n",
      "|movieId|title                             |genres                                     |\n",
      "+-------+----------------------------------+-------------------------------------------+\n",
      "|1      |Toy Story (1995)                  |Adventure|Animation|Children|Comedy|Fantasy|\n",
      "|2      |Jumanji (1995)                    |Adventure|Children|Fantasy                 |\n",
      "|3      |Grumpier Old Men (1995)           |Comedy|Romance                             |\n",
      "|4      |Waiting to Exhale (1995)          |Comedy|Drama|Romance                       |\n",
      "|5      |Father of the Bride Part II (1995)|Comedy                                     |\n",
      "+-------+----------------------------------+-------------------------------------------+\n",
      "only showing top 5 rows\n",
      "\n",
      "+------+-------+------+-------------------+\n",
      "|userId|movieId|rating|timestamp          |\n",
      "+------+-------+------+-------------------+\n",
      "|1     |2      |3.5   |2005-04-02 23:53:47|\n",
      "|1     |29     |3.5   |2005-04-02 23:31:16|\n",
      "|1     |32     |3.5   |2005-04-02 23:33:39|\n",
      "|1     |47     |3.5   |2005-04-02 23:32:07|\n",
      "|1     |50     |3.5   |2005-04-02 23:29:40|\n",
      "+------+-------+------+-------------------+\n",
      "only showing top 5 rows\n",
      "\n"
     ]
    }
   ],
   "source": [
    "# Display top five rows of each dataframe\n",
    "movies.show(n=5, truncate=False)\n",
    "ratings.show(n=5, truncate=False)\n"
   ]
  },
  {
   "attachments": {},
   "cell_type": "markdown",
   "metadata": {},
   "source": [
    "### 2.1. Data Structure and Statistics\n",
    "\n",
    "Let's go over each dataframe and check it's schema.\n",
    "\n",
    "Run the `describe()` method to see the count, mean, standard deviation, minimum, and maximum values for the data in each column:\n"
   ]
  },
  {
   "cell_type": "code",
   "execution_count": 8,
   "metadata": {
    "execution": {
     "iopub.execute_input": "2023-01-21T01:47:48.991382Z",
     "iopub.status.busy": "2023-01-21T01:47:48.991028Z",
     "iopub.status.idle": "2023-01-21T01:47:51.350226Z",
     "shell.execute_reply": "2023-01-21T01:47:51.348909Z",
     "shell.execute_reply.started": "2023-01-21T01:47:48.991355Z"
    }
   },
   "outputs": [
    {
     "name": "stdout",
     "output_type": "stream",
     "text": [
      "root\n",
      " |-- movieId: integer (nullable = true)\n",
      " |-- title: string (nullable = true)\n",
      " |-- genres: string (nullable = true)\n",
      "\n"
     ]
    },
    {
     "name": "stderr",
     "output_type": "stream",
     "text": [
      "[Stage 14:>                                                         (0 + 1) / 1]\r"
     ]
    },
    {
     "name": "stdout",
     "output_type": "stream",
     "text": [
      "+-------+-----------------+--------------------+------------------+\n",
      "|summary|          movieId|               title|            genres|\n",
      "+-------+-----------------+--------------------+------------------+\n",
      "|  count|            27278|               27278|             27278|\n",
      "|   mean|59855.48057042305|                null|              null|\n",
      "| stddev|44429.31469707313|                null|              null|\n",
      "|    min|                1|\"\"Great Performan...|(no genres listed)|\n",
      "|    max|           131262|       貞子3D (2012)|           Western|\n",
      "+-------+-----------------+--------------------+------------------+\n",
      "\n"
     ]
    },
    {
     "name": "stderr",
     "output_type": "stream",
     "text": [
      "                                                                                \r"
     ]
    }
   ],
   "source": [
    "# Movies DataFrame\n",
    "movies.printSchema()\n",
    "movies.describe().show()\n"
   ]
  },
  {
   "cell_type": "code",
   "execution_count": 9,
   "metadata": {
    "execution": {
     "iopub.execute_input": "2023-01-21T01:47:51.446664Z",
     "iopub.status.busy": "2023-01-21T01:47:51.446305Z",
     "iopub.status.idle": "2023-01-21T01:48:30.664140Z",
     "shell.execute_reply": "2023-01-21T01:48:30.662895Z",
     "shell.execute_reply.started": "2023-01-21T01:47:51.446635Z"
    }
   },
   "outputs": [
    {
     "name": "stdout",
     "output_type": "stream",
     "text": [
      "root\n",
      " |-- userId: integer (nullable = true)\n",
      " |-- movieId: integer (nullable = true)\n",
      " |-- rating: double (nullable = true)\n",
      " |-- timestamp: timestamp (nullable = true)\n",
      "\n"
     ]
    },
    {
     "name": "stderr",
     "output_type": "stream",
     "text": [
      "[Stage 17:================================================>         (5 + 1) / 6]\r"
     ]
    },
    {
     "name": "stdout",
     "output_type": "stream",
     "text": [
      "+-------+-----------------+------------------+------------------+\n",
      "|summary|           userId|           movieId|            rating|\n",
      "+-------+-----------------+------------------+------------------+\n",
      "|  count|         20000263|          20000263|          20000263|\n",
      "|   mean|69045.87258292554| 9041.567330339605|3.5255285642993797|\n",
      "| stddev|40038.62665316267|19789.477445413264| 1.051988919294229|\n",
      "|    min|                1|                 1|               0.5|\n",
      "|    25%|            34395|               903|               3.0|\n",
      "|    50%|            69133|              2167|               3.5|\n",
      "|    75%|           103637|              4771|               4.0|\n",
      "|    max|           138493|            131262|               5.0|\n",
      "+-------+-----------------+------------------+------------------+\n",
      "\n"
     ]
    },
    {
     "name": "stderr",
     "output_type": "stream",
     "text": [
      "                                                                                \r"
     ]
    }
   ],
   "source": [
    "# Ratings DataFrame\n",
    "ratings.printSchema()\n",
    "ratings.summary().show()\n"
   ]
  },
  {
   "attachments": {},
   "cell_type": "markdown",
   "metadata": {},
   "source": [
    "Not all of these statistics are actually meaningful!<br>\n",
    "You can use specific methods from the DataFrame API to compute any statistic:\n"
   ]
  },
  {
   "cell_type": "code",
   "execution_count": 10,
   "metadata": {
    "execution": {
     "iopub.execute_input": "2023-01-21T01:49:06.646193Z",
     "iopub.status.busy": "2023-01-21T01:49:06.645801Z",
     "iopub.status.idle": "2023-01-21T01:49:36.754586Z",
     "shell.execute_reply": "2023-01-21T01:49:36.753322Z",
     "shell.execute_reply.started": "2023-01-21T01:49:06.646163Z"
    }
   },
   "outputs": [
    {
     "name": "stderr",
     "output_type": "stream",
     "text": [
      "                                                                                \r"
     ]
    },
    {
     "name": "stdout",
     "output_type": "stream",
     "text": [
      "Number of distinct users: 138493\n"
     ]
    },
    {
     "name": "stderr",
     "output_type": "stream",
     "text": [
      "[Stage 26:================================================>         (5 + 1) / 6]\r"
     ]
    },
    {
     "name": "stdout",
     "output_type": "stream",
     "text": [
      "Number of distinct movies: 26744\n"
     ]
    },
    {
     "name": "stderr",
     "output_type": "stream",
     "text": [
      "                                                                                \r"
     ]
    }
   ],
   "source": [
    "print(\n",
    "    f\"Number of distinct users: {ratings.select('userId').distinct().count()}\")\n",
    "print(\n",
    "    f\"Number of distinct movies: {ratings.select('movieId').distinct().count()}\")\n"
   ]
  },
  {
   "attachments": {},
   "cell_type": "markdown",
   "metadata": {},
   "source": [
    "You can also leverage your SQL knowledge to query the data.\n",
    "\n",
    "Example, Find the number of movies with ratings higher than 4 with and without SQL:\n"
   ]
  },
  {
   "cell_type": "code",
   "execution_count": 12,
   "metadata": {
    "execution": {
     "iopub.execute_input": "2023-01-21T01:50:44.495177Z",
     "iopub.status.busy": "2023-01-21T01:50:44.493996Z",
     "iopub.status.idle": "2023-01-21T01:51:14.028787Z",
     "shell.execute_reply": "2023-01-21T01:51:14.027609Z",
     "shell.execute_reply.started": "2023-01-21T01:50:44.495139Z"
    }
   },
   "outputs": [
    {
     "name": "stderr",
     "output_type": "stream",
     "text": [
      "                                                                                \r"
     ]
    },
    {
     "name": "stdout",
     "output_type": "stream",
     "text": [
      "Number of distinct movies with rating greater than 4: 17218\n"
     ]
    },
    {
     "name": "stderr",
     "output_type": "stream",
     "text": [
      "[Stage 44:================================================>         (5 + 1) / 6]\r"
     ]
    },
    {
     "name": "stdout",
     "output_type": "stream",
     "text": [
      "+-----------+\n",
      "|movie_count|\n",
      "+-----------+\n",
      "|      17218|\n",
      "+-----------+\n",
      "\n"
     ]
    },
    {
     "name": "stderr",
     "output_type": "stream",
     "text": [
      "                                                                                \r"
     ]
    }
   ],
   "source": [
    "# Without SQL\n",
    "print(\n",
    "    f\"Number of distinct movies with rating greater than 4: {ratings.filter('rating > 4').select('movieId').distinct().count()}\")\n",
    "\n",
    "# With SQL\n",
    "ratings.createOrReplaceTempView('ratings')\n",
    "spark.sql('SELECT COUNT(DISTINCT(movieId)) AS movie_count FROM ratings WHERE rating > 4').show()\n"
   ]
  },
  {
   "attachments": {},
   "cell_type": "markdown",
   "metadata": {},
   "source": [
    "### 2.2. Missing Values\n",
    "\n",
    "Check if any column contains missing values.\n"
   ]
  },
  {
   "cell_type": "code",
   "execution_count": 13,
   "metadata": {
    "execution": {
     "iopub.execute_input": "2023-01-21T01:52:49.491396Z",
     "iopub.status.busy": "2023-01-21T01:52:49.490684Z",
     "iopub.status.idle": "2023-01-21T01:53:23.829194Z",
     "shell.execute_reply": "2023-01-21T01:53:23.827890Z",
     "shell.execute_reply.started": "2023-01-21T01:52:49.491350Z"
    }
   },
   "outputs": [
    {
     "name": "stdout",
     "output_type": "stream",
     "text": [
      "+-------+-----+------+\n",
      "|movieId|title|genres|\n",
      "+-------+-----+------+\n",
      "|      0|    0|     0|\n",
      "+-------+-----+------+\n",
      "\n"
     ]
    },
    {
     "name": "stderr",
     "output_type": "stream",
     "text": [
      "[Stage 53:================================================>         (5 + 1) / 6]\r"
     ]
    },
    {
     "name": "stdout",
     "output_type": "stream",
     "text": [
      "+------+-------+------+---------+\n",
      "|userId|movieId|rating|timestamp|\n",
      "+------+-------+------+---------+\n",
      "|     0|      0|     0|        0|\n",
      "+------+-------+------+---------+\n",
      "\n"
     ]
    },
    {
     "name": "stderr",
     "output_type": "stream",
     "text": [
      "                                                                                \r"
     ]
    }
   ],
   "source": [
    "# Check for missing values\n",
    "# 1. Movies Dataframe\n",
    "movies.select([F.count(F.when(F.col(c).contains('NULL') |\n",
    "                              F.col(c).isNull() |\n",
    "                              F.isnan(c), c)).alias(c) for c in movies.columns]).show()\n",
    "\n",
    "# 2. Ratings Dataframe\n",
    "ratings.select(*[(\n",
    "    F.count(\n",
    "        F.when(\n",
    "            (F.col(c).contains('NULL') | F.col(c).isNull() | F.isnan(c)), c)) if t not in ('timestamp', 'data')\n",
    "    else F.count(F.when(F.col(c).contains('NULL') | F.col(c).isNull(), c))).alias(c)\n",
    "    for c, t in ratings.dtypes]).show()\n"
   ]
  },
  {
   "attachments": {},
   "cell_type": "markdown",
   "metadata": {},
   "source": [
    "### 2.3. Merge DataFrame\n",
    "\n",
    "We'll merge the `movies` and `ratings` dataframe for further analysis and model building process.\n"
   ]
  },
  {
   "cell_type": "code",
   "execution_count": 14,
   "metadata": {
    "execution": {
     "iopub.execute_input": "2023-01-21T01:53:55.079193Z",
     "iopub.status.busy": "2023-01-21T01:53:55.078362Z",
     "iopub.status.idle": "2023-01-21T01:53:55.112078Z",
     "shell.execute_reply": "2023-01-21T01:53:55.110706Z",
     "shell.execute_reply.started": "2023-01-21T01:53:55.079145Z"
    }
   },
   "outputs": [],
   "source": [
    "# Merge the movies and ratings dataframes\n",
    "df = ratings.join(movies, on=[\"movieId\"], how=\"left\")\n"
   ]
  },
  {
   "cell_type": "code",
   "execution_count": 15,
   "metadata": {
    "execution": {
     "iopub.execute_input": "2023-01-21T01:53:57.954270Z",
     "iopub.status.busy": "2023-01-21T01:53:57.953886Z",
     "iopub.status.idle": "2023-01-21T01:54:13.120366Z",
     "shell.execute_reply": "2023-01-21T01:54:13.119029Z",
     "shell.execute_reply.started": "2023-01-21T01:53:57.954238Z"
    }
   },
   "outputs": [
    {
     "name": "stdout",
     "output_type": "stream",
     "text": [
      "root\n",
      " |-- movieId: integer (nullable = true)\n",
      " |-- userId: integer (nullable = true)\n",
      " |-- rating: double (nullable = true)\n",
      " |-- timestamp: timestamp (nullable = true)\n",
      " |-- title: string (nullable = true)\n",
      " |-- genres: string (nullable = true)\n",
      "\n"
     ]
    },
    {
     "name": "stderr",
     "output_type": "stream",
     "text": [
      "[Stage 57:================================================>         (5 + 1) / 6]\r"
     ]
    },
    {
     "name": "stdout",
     "output_type": "stream",
     "text": [
      "Merged DataFrame has 20000263 rows and 6 colunms\n"
     ]
    },
    {
     "name": "stderr",
     "output_type": "stream",
     "text": [
      "                                                                                \r"
     ]
    }
   ],
   "source": [
    "# Look at df structure\n",
    "df.printSchema()\n",
    "print(f'Merged DataFrame has {df.count()} rows and {len(df.columns)} colunms')\n"
   ]
  },
  {
   "cell_type": "code",
   "execution_count": 16,
   "metadata": {
    "execution": {
     "iopub.execute_input": "2023-01-21T01:54:13.122474Z",
     "iopub.status.busy": "2023-01-21T01:54:13.122114Z",
     "iopub.status.idle": "2023-01-21T01:54:13.726981Z",
     "shell.execute_reply": "2023-01-21T01:54:13.725568Z",
     "shell.execute_reply.started": "2023-01-21T01:54:13.122443Z"
    }
   },
   "outputs": [
    {
     "name": "stdout",
     "output_type": "stream",
     "text": [
      "+-------+------+------+-------------------+---------------------------------------------------------------+--------------------------------------+\n",
      "|movieId|userId|rating|timestamp          |title                                                          |genres                                |\n",
      "+-------+------+------+-------------------+---------------------------------------------------------------+--------------------------------------+\n",
      "|2      |1     |3.5   |2005-04-02 23:53:47|Jumanji (1995)                                                 |Adventure|Children|Fantasy            |\n",
      "|29     |1     |3.5   |2005-04-02 23:31:16|City of Lost Children, The (Cité des enfants perdus, La) (1995)|Adventure|Drama|Fantasy|Mystery|Sci-Fi|\n",
      "|32     |1     |3.5   |2005-04-02 23:33:39|Twelve Monkeys (a.k.a. 12 Monkeys) (1995)                      |Mystery|Sci-Fi|Thriller               |\n",
      "|47     |1     |3.5   |2005-04-02 23:32:07|Seven (a.k.a. Se7en) (1995)                                    |Mystery|Thriller                      |\n",
      "|50     |1     |3.5   |2005-04-02 23:29:40|Usual Suspects, The (1995)                                     |Crime|Mystery|Thriller                |\n",
      "+-------+------+------+-------------------+---------------------------------------------------------------+--------------------------------------+\n",
      "only showing top 5 rows\n",
      "\n"
     ]
    }
   ],
   "source": [
    "# Display top five rows of merged dataframe\n",
    "df.show(n=5, truncate=False)\n"
   ]
  },
  {
   "attachments": {},
   "cell_type": "markdown",
   "metadata": {},
   "source": [
    "## 3. Visualizations\n"
   ]
  },
  {
   "cell_type": "code",
   "execution_count": 17,
   "metadata": {
    "execution": {
     "iopub.execute_input": "2023-01-21T01:54:19.491532Z",
     "iopub.status.busy": "2023-01-21T01:54:19.491098Z",
     "iopub.status.idle": "2023-01-21T01:54:37.998340Z",
     "shell.execute_reply": "2023-01-21T01:54:37.997133Z",
     "shell.execute_reply.started": "2023-01-21T01:54:19.491497Z"
    }
   },
   "outputs": [
    {
     "name": "stderr",
     "output_type": "stream",
     "text": [
      "                                                                                \r"
     ]
    },
    {
     "data": {
      "image/png": "[encoded data removed]",
      "text/plain": [
       "<Figure size 576x360 with 1 Axes>"
      ]
     },
     "metadata": {
      "needs_background": "light"
     },
     "output_type": "display_data"
    }
   ],
   "source": [
    "# Distribution of User Ratings\n",
    "rating_count_df = (df.groupBy(['rating']).count()).toPandas()\n",
    "\n",
    "fig = plt.figure(figsize=(8, 5))\n",
    "sns.barplot(x='rating', y='count', data=rating_count_df)\n",
    "plt.title(\"Count of each rating\", fontsize=14)\n",
    "plt.show()\n"
   ]
  },
  {
   "cell_type": "code",
   "execution_count": 24,
   "metadata": {
    "execution": {
     "iopub.execute_input": "2023-01-21T02:00:49.019675Z",
     "iopub.status.busy": "2023-01-21T02:00:49.019276Z",
     "iopub.status.idle": "2023-01-21T02:01:29.486343Z",
     "shell.execute_reply": "2023-01-21T02:01:29.485068Z",
     "shell.execute_reply.started": "2023-01-21T02:00:49.019644Z"
    }
   },
   "outputs": [
    {
     "data": {
      "image/png": "[encoded data removed]",
      "text/plain": [
       "<Figure size 576x360 with 1 Axes>"
      ]
     },
     "metadata": {
      "needs_background": "light"
     },
     "output_type": "display_data"
    }
   ],
   "source": [
    "rating_values = df.select(['rating']).toPandas()\n",
    "\n",
    "fig = plt.figure(figsize=(8, 5))\n",
    "sns.violinplot(rating_values['rating'])\n",
    "plt.title(\"Distribution of rating\", fontsize=14)\n",
    "plt.show()\n"
   ]
  },
  {
   "attachments": {},
   "cell_type": "markdown",
   "metadata": {},
   "source": [
    "We find:\n",
    "\n",
    "-   Most of the users have rated `4.0` followed by `3.0`.\n"
   ]
  },
  {
   "cell_type": "code",
   "execution_count": 25,
   "metadata": {
    "execution": {
     "iopub.execute_input": "2023-01-21T02:04:09.142539Z",
     "iopub.status.busy": "2023-01-21T02:04:09.142088Z",
     "iopub.status.idle": "2023-01-21T02:05:54.735937Z",
     "shell.execute_reply": "2023-01-21T02:05:54.734707Z",
     "shell.execute_reply.started": "2023-01-21T02:04:09.142501Z"
    }
   },
   "outputs": [
    {
     "name": "stderr",
     "output_type": "stream",
     "text": [
      "                                                                                \r"
     ]
    }
   ],
   "source": [
    "genre_rating = (df\n",
    "                .select(\"movieId\", \"userId\", \"genres\", \"rating\")\n",
    "                .withColumn(\"genres_array\", F.split(\"genres\", \"\\|\"))\n",
    "                .withColumn(\"genre\", F.explode(\"genres_array\"))\n",
    "                .groupBy(\"genre\").agg(F.mean(F.col(\"rating\")).alias(\"genre_rating\"),\n",
    "                                      F.countDistinct(\"movieId\").alias(\n",
    "                                          \"num_movies\"),\n",
    "                                      F.countDistinct(\"movieId\", \"userId\").alias(\"num_ratings\"))\n",
    "                ).toPandas()\n"
   ]
  },
  {
   "cell_type": "code",
   "execution_count": 34,
   "metadata": {
    "execution": {
     "iopub.execute_input": "2023-01-21T02:14:24.378264Z",
     "iopub.status.busy": "2023-01-21T02:14:24.376787Z",
     "iopub.status.idle": "2023-01-21T02:14:25.386651Z",
     "shell.execute_reply": "2023-01-21T02:14:25.385444Z",
     "shell.execute_reply.started": "2023-01-21T02:14:24.378203Z"
    }
   },
   "outputs": [
    {
     "data": {
      "image/png": "[encoded data removed]",
      "text/plain": [
       "<Figure size 1440x1080 with 3 Axes>"
      ]
     },
     "metadata": {
      "needs_background": "light"
     },
     "output_type": "display_data"
    }
   ],
   "source": [
    "fig, axes = plt.subplots(nrows=2, ncols=2, figsize=(20, 15))\n",
    "\n",
    "genre_rating.plot.barh(\"genre\", \"genre_rating\", ax=axes[0, 0])\n",
    "axes[0, 0].set_title(\"Visualizing average rating for each genre\")\n",
    "\n",
    "genre_rating.plot.barh(\"genre\", \"num_ratings\", ax=axes[0, 1])\n",
    "axes[0, 1].set_title(\"Visualizing number of ratings for each genre\")\n",
    "\n",
    "genre_rating.plot.barh(\"genre\", \"num_movies\", ax=axes[1, 0])\n",
    "axes[1, 0].set_title(\"Visualizing number of movies in each genre\")\n",
    "\n",
    "fig.delaxes(axes[1, 1])\n",
    "fig.tight_layout()\n",
    "\n",
    "plt.show()\n"
   ]
  },
  {
   "cell_type": "code",
   "execution_count": 35,
   "metadata": {
    "execution": {
     "iopub.execute_input": "2023-01-21T02:14:53.216439Z",
     "iopub.status.busy": "2023-01-21T02:14:53.215996Z",
     "iopub.status.idle": "2023-01-21T02:15:41.785804Z",
     "shell.execute_reply": "2023-01-21T02:15:41.784883Z",
     "shell.execute_reply.started": "2023-01-21T02:14:53.216406Z"
    }
   },
   "outputs": [
    {
     "name": "stderr",
     "output_type": "stream",
     "text": [
      "                                                                                \r"
     ]
    }
   ],
   "source": [
    "# Analyzing day of the month - Timestamp of rating\n",
    "day_month_rating = (df\n",
    "                    .withColumnRenamed(\"timestamp\", \"date\")\n",
    "                    .withColumn(\"day\", F.dayofmonth(F.col(\"date\")))\n",
    "                    .groupBy(\"day\").agg(F.mean(F.col(\"rating\")).alias(\"avg_rating\"),\n",
    "                                        F.countDistinct(\"movieId\").alias(\n",
    "                                            \"num_movies\"),\n",
    "                                        F.countDistinct(\"movieId\", \"userId\").alias(\"num_ratings\"))\n",
    "                    ).toPandas()\n"
   ]
  },
  {
   "cell_type": "code",
   "execution_count": 37,
   "metadata": {
    "execution": {
     "iopub.execute_input": "2023-01-21T02:16:29.043589Z",
     "iopub.status.busy": "2023-01-21T02:16:29.043162Z",
     "iopub.status.idle": "2023-01-21T02:16:29.748099Z",
     "shell.execute_reply": "2023-01-21T02:16:29.747021Z",
     "shell.execute_reply.started": "2023-01-21T02:16:29.043554Z"
    }
   },
   "outputs": [
    {
     "data": {
      "image/png": "[encoded data removed]",
      "text/plain": [
       "<Figure size 1440x864 with 3 Axes>"
      ]
     },
     "metadata": {
      "needs_background": "light"
     },
     "output_type": "display_data"
    }
   ],
   "source": [
    "fig, axes = plt.subplots(nrows=2, ncols=2, figsize=(20, 12))\n",
    "\n",
    "day_month_rating.plot.scatter(\"day\", \"avg_rating\", ax=axes[0, 0])\n",
    "axes[0, 0].set_title(\"Visualizing average rating rated each day\")\n",
    "\n",
    "day_month_rating.plot.scatter(\"day\", \"num_ratings\", ax=axes[0, 1])\n",
    "axes[0, 1].set_title(\"Visualizing number of ratings rated each day\")\n",
    "\n",
    "day_month_rating.plot.scatter(\"day\", \"num_movies\", ax=axes[1, 0])\n",
    "axes[1, 0].set_title(\"Visualizing number of movies rated each day\")\n",
    "\n",
    "fig.delaxes(axes[1, 1])\n",
    "fig.tight_layout()\n",
    "\n",
    "plt.show()\n"
   ]
  },
  {
   "attachments": {},
   "cell_type": "markdown",
   "metadata": {},
   "source": [
    "We find:\n",
    "\n",
    "-   There is no clear pattern or relation between the `day of the month` with other features.\n"
   ]
  },
  {
   "cell_type": "code",
   "execution_count": 38,
   "metadata": {
    "execution": {
     "iopub.execute_input": "2023-01-21T02:16:48.632064Z",
     "iopub.status.busy": "2023-01-21T02:16:48.631032Z",
     "iopub.status.idle": "2023-01-21T02:17:35.560502Z",
     "shell.execute_reply": "2023-01-21T02:17:35.559042Z",
     "shell.execute_reply.started": "2023-01-21T02:16:48.632026Z"
    }
   },
   "outputs": [
    {
     "name": "stderr",
     "output_type": "stream",
     "text": [
      "                                                                                \r"
     ]
    }
   ],
   "source": [
    "# Analyzing day of the week - Timestamp of rating\n",
    "day_week_rating = (df\n",
    "                   .withColumnRenamed(\"timestamp\", \"date\")\n",
    "                   .withColumn(\"day\", F.dayofweek(F.col(\"date\")))\n",
    "                   .groupBy(\"day\").agg(F.mean(F.col(\"rating\")).alias(\"avg_rating\"),\n",
    "                                       F.countDistinct(\"movieId\").alias(\n",
    "                                           \"num_movies\"),\n",
    "                                       F.countDistinct(\"movieId\", \"userId\").alias(\"num_ratings\"))\n",
    "                   ).toPandas()\n"
   ]
  },
  {
   "cell_type": "code",
   "execution_count": 45,
   "metadata": {
    "execution": {
     "iopub.execute_input": "2023-01-21T02:22:03.278147Z",
     "iopub.status.busy": "2023-01-21T02:22:03.277286Z",
     "iopub.status.idle": "2023-01-21T02:22:03.928628Z",
     "shell.execute_reply": "2023-01-21T02:22:03.927437Z",
     "shell.execute_reply.started": "2023-01-21T02:22:03.278105Z"
    }
   },
   "outputs": [
    {
     "data": {
      "image/png": "[encoded data removed]",
      "text/plain": [
       "<Figure size 1440x864 with 3 Axes>"
      ]
     },
     "metadata": {
      "needs_background": "light"
     },
     "output_type": "display_data"
    }
   ],
   "source": [
    "fig, axes = plt.subplots(nrows=2, ncols=2, figsize=(20, 12))\n",
    "\n",
    "axes[0, 0].scatter(day_week_rating.day.astype(\n",
    "    'int64'), day_week_rating.avg_rating)\n",
    "axes[0, 0].set_title(\"Visualizing average rating rated each day\")\n",
    "\n",
    "axes[0, 1].scatter(day_week_rating.day.astype(\n",
    "    'int64'), day_week_rating.num_ratings)\n",
    "axes[0, 1].set_title(\"Visualizing number of ratings rated each day\")\n",
    "\n",
    "axes[1, 0].scatter(day_week_rating.day.astype(\n",
    "    'int64'), day_week_rating.num_movies)\n",
    "axes[1, 0].set_title(\"Visualizing number of movies rated each day\")\n",
    "\n",
    "fig.delaxes(axes[1, 1])\n",
    "fig.tight_layout()\n",
    "\n",
    "plt.show()\n"
   ]
  },
  {
   "cell_type": "code",
   "execution_count": 46,
   "metadata": {
    "execution": {
     "iopub.execute_input": "2023-01-21T02:22:20.268475Z",
     "iopub.status.busy": "2023-01-21T02:22:20.268058Z",
     "iopub.status.idle": "2023-01-21T02:23:19.346706Z",
     "shell.execute_reply": "2023-01-21T02:23:19.335576Z",
     "shell.execute_reply.started": "2023-01-21T02:22:20.268440Z"
    }
   },
   "outputs": [
    {
     "name": "stderr",
     "output_type": "stream",
     "text": [
      "                                                                                \r"
     ]
    }
   ],
   "source": [
    "release_year_rating = (df\n",
    "                       .select(\"title\", \"movieId\", \"userId\", \"rating\")\n",
    "                       .withColumn(\"releaseyear\", F.substring('title', -5, 4))\n",
    "                       .filter(F.col(\"releaseyear\") > 1900)\n",
    "                       .groupBy(\"releaseyear\").agg(F.mean(F.col(\"rating\")).alias(\"avg_rating\"),\n",
    "                                                   F.countDistinct(\"movieId\").alias(\n",
    "                                                       \"num_movies\"),\n",
    "                                                   F.countDistinct(\"movieId\", \"userId\").alias(\"num_ratings\"))\n",
    "                       ).toPandas()\n"
   ]
  },
  {
   "cell_type": "code",
   "execution_count": 48,
   "metadata": {
    "execution": {
     "iopub.execute_input": "2023-01-21T02:23:40.767508Z",
     "iopub.status.busy": "2023-01-21T02:23:40.766525Z",
     "iopub.status.idle": "2023-01-21T02:23:41.438888Z",
     "shell.execute_reply": "2023-01-21T02:23:41.437540Z",
     "shell.execute_reply.started": "2023-01-21T02:23:40.767452Z"
    }
   },
   "outputs": [
    {
     "data": {
      "image/png": "[encoded data removed]",
      "text/plain": [
       "<Figure size 1440x864 with 3 Axes>"
      ]
     },
     "metadata": {
      "needs_background": "light"
     },
     "output_type": "display_data"
    }
   ],
   "source": [
    "fig, axes = plt.subplots(nrows=2, ncols=2, figsize=(20, 12))\n",
    "\n",
    "axes[0, 0].scatter(release_year_rating.releaseyear.astype(\n",
    "    'int64'), release_year_rating.avg_rating)\n",
    "axes[0, 0].set_title(\"Visualizing average rating vs Release Year\")\n",
    "\n",
    "axes[0, 1].scatter(release_year_rating.releaseyear.astype(\n",
    "    'int64'), release_year_rating.num_ratings)\n",
    "axes[0, 1].set_title(\"Visualizing number of ratings vs Release Year\")\n",
    "\n",
    "axes[1, 0].scatter(release_year_rating.releaseyear.astype(\n",
    "    'int64'), release_year_rating.num_movies)\n",
    "axes[1, 0].set_title(\"Visualizing number of movies vs Release Year\")\n",
    "\n",
    "fig.delaxes(axes[1, 1])\n",
    "fig.tight_layout()\n",
    "\n",
    "plt.show()\n"
   ]
  },
  {
   "attachments": {},
   "cell_type": "markdown",
   "metadata": {},
   "source": [
    "We find:\n",
    "\n",
    "-   Number of movies have increased significantly over the years.\n",
    "-   Number of rating has a weird uprise and drop.\n"
   ]
  },
  {
   "attachments": {},
   "cell_type": "markdown",
   "metadata": {},
   "source": [
    "## 4. Data Preparation\n"
   ]
  },
  {
   "cell_type": "code",
   "execution_count": 52,
   "metadata": {
    "execution": {
     "iopub.execute_input": "2023-01-21T02:47:12.664319Z",
     "iopub.status.busy": "2023-01-21T02:47:12.662878Z",
     "iopub.status.idle": "2023-01-21T02:47:12.705674Z",
     "shell.execute_reply": "2023-01-21T02:47:12.704298Z",
     "shell.execute_reply.started": "2023-01-21T02:47:12.664260Z"
    }
   },
   "outputs": [],
   "source": [
    "# Train Test split\n",
    "(train, test) = df.select(\n",
    "    ['userId', 'movieId', 'rating']).randomSplit([0.8, 0.2])\n"
   ]
  },
  {
   "attachments": {},
   "cell_type": "markdown",
   "metadata": {},
   "source": [
    "## 5. Model Building\n",
    "\n",
    "Parameter Description:\n",
    "\n",
    "-   `rank`: rank of the factorization\n",
    "-   `maxIter`: max number of iterations (>= 0)\n",
    "-   `regParam`: regularization parameter (>= 0)\n",
    "-   `userCol`: column name for user ids. Ids must be within the integer value range\n",
    "-   `itemCol`: column name for item ids. Ids must be within the integer value range\n",
    "-   `ratingCol`: column name for ratings\n",
    "-   `coldStartStrategy`: strategy for dealing with unknown or new users/items at prediction time. This may be useful in cross-validation or production scenarios, for handling user/item ids the model has not seen in the training data. Supported values: 'nan', 'drop'\n"
   ]
  },
  {
   "cell_type": "code",
   "execution_count": 49,
   "metadata": {
    "execution": {
     "iopub.execute_input": "2023-01-21T02:45:47.654650Z",
     "iopub.status.busy": "2023-01-21T02:45:47.654100Z",
     "iopub.status.idle": "2023-01-21T02:45:47.830287Z",
     "shell.execute_reply": "2023-01-21T02:45:47.828896Z",
     "shell.execute_reply.started": "2023-01-21T02:45:47.654612Z"
    }
   },
   "outputs": [],
   "source": [
    "# Basic Model building\n",
    "als = ALS(rank=10, maxIter=4, regParam=0.1, userCol='userId',\n",
    "          itemCol='movieId', ratingCol='rating', coldStartStrategy=\"drop\")\n",
    "\n",
    "# Define evaluator as RMSE\n",
    "evaluator = RegressionEvaluator(\n",
    "    metricName=\"rmse\", labelCol=\"rating\", predictionCol=\"prediction\")\n"
   ]
  },
  {
   "cell_type": "code",
   "execution_count": 53,
   "metadata": {
    "execution": {
     "iopub.execute_input": "2023-01-21T02:47:17.031123Z",
     "iopub.status.busy": "2023-01-21T02:47:17.030704Z",
     "iopub.status.idle": "2023-01-21T02:50:41.614120Z",
     "shell.execute_reply": "2023-01-21T02:50:41.612772Z",
     "shell.execute_reply.started": "2023-01-21T02:47:17.031090Z"
    }
   },
   "outputs": [
    {
     "name": "stderr",
     "output_type": "stream",
     "text": [
      "                                                                                \r"
     ]
    },
    {
     "name": "stdout",
     "output_type": "stream",
     "text": [
      "CPU times: user 168 ms, sys: 40.7 ms, total: 209 ms\n",
      "Wall time: 3min 24s\n"
     ]
    }
   ],
   "source": [
    "% % time\n",
    "# Fit the model\n",
    "model = als.fit(train)\n"
   ]
  },
  {
   "cell_type": "code",
   "execution_count": 54,
   "metadata": {
    "execution": {
     "iopub.execute_input": "2023-01-21T02:55:40.502582Z",
     "iopub.status.busy": "2023-01-21T02:55:40.502100Z",
     "iopub.status.idle": "2023-01-21T02:56:11.120774Z",
     "shell.execute_reply": "2023-01-21T02:56:11.119717Z",
     "shell.execute_reply.started": "2023-01-21T02:55:40.502550Z"
    }
   },
   "outputs": [
    {
     "name": "stderr",
     "output_type": "stream",
     "text": [
      "[Stage 170:============================>                            (2 + 2) / 4]\r"
     ]
    },
    {
     "name": "stdout",
     "output_type": "stream",
     "text": [
      "The RMSE for our model is: 0.8176288680275328\n"
     ]
    },
    {
     "name": "stderr",
     "output_type": "stream",
     "text": [
      "                                                                                \r"
     ]
    }
   ],
   "source": [
    "# Evaluate the model\n",
    "predictions = model.transform(test)\n",
    "rmse = evaluator.evaluate(predictions)\n",
    "\n",
    "print('The RMSE for our model is: {}'.format(rmse))\n"
   ]
  },
  {
   "attachments": {},
   "cell_type": "markdown",
   "metadata": {},
   "source": [
    "### 5.1. Improving the model\n",
    "\n",
    "One way to improve the model is to tune the hyperparameter of the model. `CrossValidator` is familiar with sklearn's `cross_val_score` and `ParamGridBuilder` is a builder for a param grid used in grid search-based model selection.\n",
    "\n",
    "The cross validation consumes enormouse amout of time and hence, below you can find the skeleton code to perform hyper parameter tuning.\n"
   ]
  },
  {
   "cell_type": "code",
   "execution_count": 56,
   "metadata": {
    "execution": {
     "iopub.execute_input": "2023-01-21T02:59:21.284423Z",
     "iopub.status.busy": "2023-01-21T02:59:21.283973Z",
     "iopub.status.idle": "2023-01-21T02:59:21.292465Z",
     "shell.execute_reply": "2023-01-21T02:59:21.291396Z",
     "shell.execute_reply.started": "2023-01-21T02:59:21.284385Z"
    }
   },
   "outputs": [],
   "source": [
    "# Define the model parameter grid\n",
    "param_grid = ParamGridBuilder()\\\n",
    "    .addGrid(als.rank, [12, 13, 14])\\\n",
    "    .addGrid(als.maxIter, [18, 19, 20])\\\n",
    "    .addGrid(als.regParam, [0.05, 0.5, 0.1])\\\n",
    "    .build()\n",
    "\n",
    "# Initialize the cross validator\n",
    "crossVal = CrossValidator(\n",
    "    estimator=als, estimatorParamMaps=param_grid, evaluator=evaluator, numFolds=10)\n",
    "\n",
    "# Fit the model and perform cross validation\n",
    "cvModel = crossVal.fit(train)\n",
    "\n",
    "# Evaluate the model\n",
    "cvPredictions = cvModel.transform(test)\n",
    "cvRmse = evaluator.evaluate(cvPredictions)\n",
    "\n",
    "print('The RMSE for our model is: {}'.format(cvRmse))\n"
   ]
  },
  {
   "attachments": {},
   "cell_type": "markdown",
   "metadata": {},
   "source": [
    "## 6. Recommend Movies\n",
    "\n",
    "To recommend movies for a specific user, below is a function that applies the trained model, ALSModel, on the list of movies that the user hasn't yet rated\n"
   ]
  },
  {
   "cell_type": "code",
   "execution_count": 58,
   "metadata": {
    "execution": {
     "iopub.execute_input": "2023-01-21T03:15:25.866163Z",
     "iopub.status.busy": "2023-01-21T03:15:25.864695Z",
     "iopub.status.idle": "2023-01-21T03:15:25.879001Z",
     "shell.execute_reply": "2023-01-21T03:15:25.876582Z",
     "shell.execute_reply.started": "2023-01-21T03:15:25.866101Z"
    }
   },
   "outputs": [],
   "source": [
    "def recommendMovies(model, user, nRecommendation):\n",
    "    # Create a Spark DataFrame with the specified user and all the movies listed in the ratings DataFrame\n",
    "    dataSet = ratings.select('movieId').distinct(\n",
    "    ).withColumn('userId', F.lit(user))\n",
    "\n",
    "    # Create a Spark DataFrame with the movies that have already been rated by this user\n",
    "    moviesAlreadyRated = ratings.filter(\n",
    "        ratings.userId == user).select('movieId', 'userId')\n",
    "\n",
    "    # Apply the recommender system to the data set without the already rated movies to predict ratings\n",
    "    predictions = model.transform(dataSet.subtract(moviesAlreadyRated)).dropna().orderBy(\n",
    "        'prediction', ascending=False).limit(nRecommendation).select('movieId', 'prediction')\n",
    "\n",
    "    # Join with the movies DataFrame to get the movies titles and genres\n",
    "    recommendations = predictions.join(movies, predictions.movieId == movies.movieId).select(\n",
    "        predictions.movieId, movies.title, movies.genres, predictions.prediction)\n",
    "\n",
    "    return recommendations\n"
   ]
  },
  {
   "attachments": {},
   "cell_type": "markdown",
   "metadata": {},
   "source": [
    "Now run this function to recommend 10 movies for different users:\n"
   ]
  },
  {
   "cell_type": "code",
   "execution_count": 59,
   "metadata": {
    "execution": {
     "iopub.execute_input": "2023-01-21T03:16:01.397105Z",
     "iopub.status.busy": "2023-01-21T03:16:01.396383Z",
     "iopub.status.idle": "2023-01-21T03:17:05.356420Z",
     "shell.execute_reply": "2023-01-21T03:17:05.355281Z",
     "shell.execute_reply.started": "2023-01-21T03:16:01.397059Z"
    }
   },
   "outputs": [
    {
     "name": "stdout",
     "output_type": "stream",
     "text": [
      "Recommendations for user 153:\n"
     ]
    },
    {
     "name": "stderr",
     "output_type": "stream",
     "text": [
      "                                                                                \r"
     ]
    },
    {
     "data": {
      "text/html": [
       "<div>\n",
       "<style scoped>\n",
       "    .dataframe tbody tr th:only-of-type {\n",
       "        vertical-align: middle;\n",
       "    }\n",
       "\n",
       "    .dataframe tbody tr th {\n",
       "        vertical-align: top;\n",
       "    }\n",
       "\n",
       "    .dataframe thead th {\n",
       "        text-align: right;\n",
       "    }\n",
       "</style>\n",
       "<table border=\"1\" class=\"dataframe\">\n",
       "  <thead>\n",
       "    <tr style=\"text-align: right;\">\n",
       "      <th></th>\n",
       "      <th>movieId</th>\n",
       "      <th>title</th>\n",
       "      <th>genres</th>\n",
       "      <th>prediction</th>\n",
       "    </tr>\n",
       "  </thead>\n",
       "  <tbody>\n",
       "    <tr>\n",
       "      <th>0</th>\n",
       "      <td>81117</td>\n",
       "      <td>Moth, The (Cma) (1980)</td>\n",
       "      <td>Drama</td>\n",
       "      <td>6.064673</td>\n",
       "    </tr>\n",
       "    <tr>\n",
       "      <th>1</th>\n",
       "      <td>82328</td>\n",
       "      <td>One Fine Spring Day (Bomnaleun ganda) (2001)</td>\n",
       "      <td>Drama</td>\n",
       "      <td>5.925478</td>\n",
       "    </tr>\n",
       "    <tr>\n",
       "      <th>2</th>\n",
       "      <td>109887</td>\n",
       "      <td>Great Passage, The (Fune wo amu) (2013)</td>\n",
       "      <td>Drama</td>\n",
       "      <td>5.818318</td>\n",
       "    </tr>\n",
       "    <tr>\n",
       "      <th>3</th>\n",
       "      <td>116183</td>\n",
       "      <td>It's Love I'm After (1937)</td>\n",
       "      <td>Comedy</td>\n",
       "      <td>5.911806</td>\n",
       "    </tr>\n",
       "    <tr>\n",
       "      <th>4</th>\n",
       "      <td>117907</td>\n",
       "      <td>My Brother Tom (2001)</td>\n",
       "      <td>Drama</td>\n",
       "      <td>6.311569</td>\n",
       "    </tr>\n",
       "    <tr>\n",
       "      <th>5</th>\n",
       "      <td>120134</td>\n",
       "      <td>Doggiewoggiez! Poochiewoochiez! (2012)</td>\n",
       "      <td>Comedy</td>\n",
       "      <td>6.050812</td>\n",
       "    </tr>\n",
       "    <tr>\n",
       "      <th>6</th>\n",
       "      <td>120821</td>\n",
       "      <td>The War at Home (1979)</td>\n",
       "      <td>Documentary|War</td>\n",
       "      <td>6.015426</td>\n",
       "    </tr>\n",
       "    <tr>\n",
       "      <th>7</th>\n",
       "      <td>121029</td>\n",
       "      <td>No Distance Left to Run (2010)</td>\n",
       "      <td>Documentary</td>\n",
       "      <td>6.553770</td>\n",
       "    </tr>\n",
       "    <tr>\n",
       "      <th>8</th>\n",
       "      <td>129536</td>\n",
       "      <td>Code Name Coq Rouge (1989)</td>\n",
       "      <td>(no genres listed)</td>\n",
       "      <td>6.092913</td>\n",
       "    </tr>\n",
       "    <tr>\n",
       "      <th>9</th>\n",
       "      <td>130347</td>\n",
       "      <td>Bill Hicks: Sane Man (1989)</td>\n",
       "      <td>Comedy</td>\n",
       "      <td>5.887615</td>\n",
       "    </tr>\n",
       "  </tbody>\n",
       "</table>\n",
       "</div>"
      ],
      "text/plain": [
       "   movieId                                         title              genres  \\\n",
       "0    81117                        Moth, The (Cma) (1980)               Drama   \n",
       "1    82328  One Fine Spring Day (Bomnaleun ganda) (2001)               Drama   \n",
       "2   109887       Great Passage, The (Fune wo amu) (2013)               Drama   \n",
       "3   116183                    It's Love I'm After (1937)              Comedy   \n",
       "4   117907                         My Brother Tom (2001)               Drama   \n",
       "5   120134        Doggiewoggiez! Poochiewoochiez! (2012)              Comedy   \n",
       "6   120821                        The War at Home (1979)     Documentary|War   \n",
       "7   121029                No Distance Left to Run (2010)         Documentary   \n",
       "8   129536                    Code Name Coq Rouge (1989)  (no genres listed)   \n",
       "9   130347                   Bill Hicks: Sane Man (1989)              Comedy   \n",
       "\n",
       "   prediction  \n",
       "0    6.064673  \n",
       "1    5.925478  \n",
       "2    5.818318  \n",
       "3    5.911806  \n",
       "4    6.311569  \n",
       "5    6.050812  \n",
       "6    6.015426  \n",
       "7    6.553770  \n",
       "8    6.092913  \n",
       "9    5.887615  "
      ]
     },
     "execution_count": 59,
     "metadata": {},
     "output_type": "execute_result"
    },
    {
     "name": "stderr",
     "output_type": "stream",
     "text": [
      "[Stage 420:=======================================>                (7 + 3) / 10]\r"
     ]
    }
   ],
   "source": [
    "print('Recommendations for user 153:')\n",
    "recommendMovies(model, 153, 10).toPandas()\n"
   ]
  },
  {
   "cell_type": "code",
   "execution_count": 60,
   "metadata": {
    "execution": {
     "iopub.execute_input": "2023-01-21T03:17:47.450314Z",
     "iopub.status.busy": "2023-01-21T03:17:47.449710Z",
     "iopub.status.idle": "2023-01-21T03:18:59.924784Z",
     "shell.execute_reply": "2023-01-21T03:18:59.923635Z",
     "shell.execute_reply.started": "2023-01-21T03:17:47.450268Z"
    }
   },
   "outputs": [
    {
     "name": "stdout",
     "output_type": "stream",
     "text": [
      "Recommendations for user 250:\n"
     ]
    },
    {
     "name": "stderr",
     "output_type": "stream",
     "text": [
      "                                                                                \r"
     ]
    },
    {
     "data": {
      "text/html": [
       "<div>\n",
       "<style scoped>\n",
       "    .dataframe tbody tr th:only-of-type {\n",
       "        vertical-align: middle;\n",
       "    }\n",
       "\n",
       "    .dataframe tbody tr th {\n",
       "        vertical-align: top;\n",
       "    }\n",
       "\n",
       "    .dataframe thead th {\n",
       "        text-align: right;\n",
       "    }\n",
       "</style>\n",
       "<table border=\"1\" class=\"dataframe\">\n",
       "  <thead>\n",
       "    <tr style=\"text-align: right;\">\n",
       "      <th></th>\n",
       "      <th>movieId</th>\n",
       "      <th>title</th>\n",
       "      <th>genres</th>\n",
       "      <th>prediction</th>\n",
       "    </tr>\n",
       "  </thead>\n",
       "  <tbody>\n",
       "    <tr>\n",
       "      <th>0</th>\n",
       "      <td>26793</td>\n",
       "      <td>Tito and Me (Tito i ja) (1992)</td>\n",
       "      <td>Comedy</td>\n",
       "      <td>4.924314</td>\n",
       "    </tr>\n",
       "    <tr>\n",
       "      <th>1</th>\n",
       "      <td>103593</td>\n",
       "      <td>Taming the Fire (Ukroshcheniye ognya) (1972)</td>\n",
       "      <td>Documentary|Drama|Sci-Fi</td>\n",
       "      <td>4.850996</td>\n",
       "    </tr>\n",
       "    <tr>\n",
       "      <th>2</th>\n",
       "      <td>104317</td>\n",
       "      <td>Flight of the Conchords: A Texan Odyssey (2006)</td>\n",
       "      <td>Comedy</td>\n",
       "      <td>4.919813</td>\n",
       "    </tr>\n",
       "    <tr>\n",
       "      <th>3</th>\n",
       "      <td>107434</td>\n",
       "      <td>Diplomatic Immunity (2009– )</td>\n",
       "      <td>Comedy</td>\n",
       "      <td>4.923127</td>\n",
       "    </tr>\n",
       "    <tr>\n",
       "      <th>4</th>\n",
       "      <td>110669</td>\n",
       "      <td>Honest Liar, An (2014)</td>\n",
       "      <td>Comedy|Documentary</td>\n",
       "      <td>4.900411</td>\n",
       "    </tr>\n",
       "    <tr>\n",
       "      <th>5</th>\n",
       "      <td>118338</td>\n",
       "      <td>Hard to Be a God (2013)</td>\n",
       "      <td>Sci-Fi</td>\n",
       "      <td>4.911441</td>\n",
       "    </tr>\n",
       "    <tr>\n",
       "      <th>6</th>\n",
       "      <td>120134</td>\n",
       "      <td>Doggiewoggiez! Poochiewoochiez! (2012)</td>\n",
       "      <td>Comedy</td>\n",
       "      <td>5.056443</td>\n",
       "    </tr>\n",
       "    <tr>\n",
       "      <th>7</th>\n",
       "      <td>121029</td>\n",
       "      <td>No Distance Left to Run (2010)</td>\n",
       "      <td>Documentary</td>\n",
       "      <td>5.534087</td>\n",
       "    </tr>\n",
       "    <tr>\n",
       "      <th>8</th>\n",
       "      <td>128091</td>\n",
       "      <td>Craig Ferguson: A Wee Bit o' Revolution (2009)</td>\n",
       "      <td>Comedy</td>\n",
       "      <td>5.608799</td>\n",
       "    </tr>\n",
       "    <tr>\n",
       "      <th>9</th>\n",
       "      <td>130347</td>\n",
       "      <td>Bill Hicks: Sane Man (1989)</td>\n",
       "      <td>Comedy</td>\n",
       "      <td>5.114568</td>\n",
       "    </tr>\n",
       "  </tbody>\n",
       "</table>\n",
       "</div>"
      ],
      "text/plain": [
       "   movieId                                            title  \\\n",
       "0    26793                   Tito and Me (Tito i ja) (1992)   \n",
       "1   103593     Taming the Fire (Ukroshcheniye ognya) (1972)   \n",
       "2   104317  Flight of the Conchords: A Texan Odyssey (2006)   \n",
       "3   107434                     Diplomatic Immunity (2009– )   \n",
       "4   110669                           Honest Liar, An (2014)   \n",
       "5   118338                          Hard to Be a God (2013)   \n",
       "6   120134           Doggiewoggiez! Poochiewoochiez! (2012)   \n",
       "7   121029                   No Distance Left to Run (2010)   \n",
       "8   128091   Craig Ferguson: A Wee Bit o' Revolution (2009)   \n",
       "9   130347                      Bill Hicks: Sane Man (1989)   \n",
       "\n",
       "                     genres  prediction  \n",
       "0                    Comedy    4.924314  \n",
       "1  Documentary|Drama|Sci-Fi    4.850996  \n",
       "2                    Comedy    4.919813  \n",
       "3                    Comedy    4.923127  \n",
       "4        Comedy|Documentary    4.900411  \n",
       "5                    Sci-Fi    4.911441  \n",
       "6                    Comedy    5.056443  \n",
       "7               Documentary    5.534087  \n",
       "8                    Comedy    5.608799  \n",
       "9                    Comedy    5.114568  "
      ]
     },
     "execution_count": 60,
     "metadata": {},
     "output_type": "execute_result"
    },
    {
     "name": "stderr",
     "output_type": "stream",
     "text": [
      "[Stage 666:>                                                       (0 + 4) / 10]\r"
     ]
    }
   ],
   "source": [
    "print('Recommendations for user 250:')\n",
    "recommendMovies(model, 250, 10).toPandas()\n"
   ]
  },
  {
   "attachments": {},
   "cell_type": "markdown",
   "metadata": {},
   "source": [
    "## Thank you\n",
    "\n",
    "Share if you liked it, comment if you loved it. Hope to see you guys in the next one. Peace!\n"
   ]
  },
  {
   "attachments": {},
   "cell_type": "markdown",
   "metadata": {},
   "source": [
    "## Resources\n",
    "\n",
    "1. [ML Tuning: Model Selection and Hyperparameter Tuning Using PySpark](https://spark.apache.org/docs/latest/ml-tuning.html)\n",
    "2. [ALS](https://spark.apache.org/docs/latest/api/python/reference/api/pyspark.ml.recommendation.ALS.html)\n",
    "3. [PySpark Documentation](https://spark.apache.org/docs/latest/api/python/getting_started/index.html)\n"
   ]
  },
  {
   "attachments": {},
   "cell_type": "markdown",
   "metadata": {},
   "source": [
    "## Data Citation\n",
    "\n",
    "F. Maxwell Harper and Joseph A. Konstan. 2015. The MovieLens Datasets: History and Context. ACM Transactions on Interactive Intelligent Systems (TiiS) 5, 4, Article 19 (December 2015), 19 pages. DOI=http://dx.doi.org/10.1145/2827872\n"
   ]
  },
  {
   "cell_type": "code",
   "execution_count": null,
   "metadata": {},
   "outputs": [],
   "source": []
  }
 ],
 "metadata": {
  "kernelspec": {
   "display_name": "Python 3 (ipykernel)",
   "language": "python",
   "name": "python3"
  },
  "language_info": {
   "codemirror_mode": {
    "name": "ipython",
    "version": 3
   },
   "file_extension": ".py",
   "mimetype": "text/x-python",
   "name": "python",
   "nbconvert_exporter": "python",
   "pygments_lexer": "ipython3",
   "version": "3.9.13"
  },
  "vscode": {
   "interpreter": {
    "hash": "fd445e0a0df0ef733fdb8c310832b941832eb7caa98a80420cc6aa033e01117c"
   }
  }
 },
 "nbformat": 4,
 "nbformat_minor": 4
}
