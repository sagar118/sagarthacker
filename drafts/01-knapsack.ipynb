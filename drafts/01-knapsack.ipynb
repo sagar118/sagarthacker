{
 "cells": [
  {
   "cell_type": "markdown",
   "metadata": {},
   "source": [
    "# 0/1 Knapsack Problems\n",
    "\n",
    "Given weights and values of n items, put these items in a knapsack of capacity W to get the maximum total value in the knapsack. \n",
    "\n",
    "Knapsack problems are divided into three types:\n",
    "\n",
    "1. Fractional Knapsack (Greedy)\n",
    "2. 0/1 Knapsack\n",
    "3. Unbounded Knapsack"
   ]
  },
  {
   "cell_type": "markdown",
   "metadata": {},
   "source": [
    "## Identify Knapsack Problems:\n",
    "\n",
    "- Choice:\n",
    "    - We choose to put or not to put item in the bag\n",
    "- Optimize:\n",
    "    - Maximize the profit\n",
    "\n",
    "## Solve:\n",
    "\n",
    "- Base Case: Always think of the smallest possible valid input\n",
    "- Recursive function: Call the function recursively with smaller inputs"
   ]
  },
  {
   "cell_type": "code",
   "execution_count": 41,
   "metadata": {},
   "outputs": [],
   "source": [
    "# Import required libraries\n",
    "import math"
   ]
  },
  {
   "cell_type": "code",
   "execution_count": 8,
   "metadata": {},
   "outputs": [
    {
     "data": {
      "text/plain": [
       "9"
      ]
     },
     "execution_count": 8,
     "metadata": {},
     "output_type": "execute_result"
    }
   ],
   "source": [
    "# Top-Down: Recusive-Memoized Implementation\n",
    "def knapsack(weight: list, value: list, capacity: int, n: int) -> int:\n",
    "\n",
    "    def helper(capacity: int, idx: int):\n",
    "        # Base Condition\n",
    "        if (idx == 0) or (capacity == 0):\n",
    "            return 0\n",
    "        if (capacity, idx) in memo:\n",
    "            return memo[(capacity, idx)]\n",
    "        \n",
    "        # Choice diagram\n",
    "        if weight[idx-1] <= capacity:\n",
    "            memo[(capacity, idx)] = max(value[idx-1] + helper(capacity - weight[idx-1], idx-1), helper(capacity, idx-1))\n",
    "        else:\n",
    "            memo[(capacity, idx)] = knapsack(capacity, idx-1)\n",
    "        return memo[(capacity, idx)]\n",
    "    \n",
    "    memo = dict()\n",
    "    return helper(capacity, n)\n",
    "\n",
    "weight = [1,2,3,4]\n",
    "value = [1,3,4,5]\n",
    "capacity = 7\n",
    "n = 4\n",
    "knapsack(weight, value, capacity, n)"
   ]
  },
  {
   "cell_type": "code",
   "execution_count": 7,
   "metadata": {},
   "outputs": [
    {
     "data": {
      "text/plain": [
       "9"
      ]
     },
     "execution_count": 7,
     "metadata": {},
     "output_type": "execute_result"
    }
   ],
   "source": [
    "# Bottom-Up: Iterative Implmentation\n",
    "def knapsack_iter(weight: list, value: list, capacity: int, n: int) -> int:\n",
    "    length = len(weight)\n",
    "    # Convert base case to initialization\n",
    "    memo = [[0] * (capacity + 1) for _ in range(length + 1)]\n",
    "\n",
    "    # Choice diagram\n",
    "    for i in range(1, length + 1):\n",
    "        for j in range(1, capacity + 1):\n",
    "            if weight[i-1] <= j:\n",
    "                memo[i][j] = max(value[i-1] + memo[i-1][j - weight[i-1]], memo[i-1][j])\n",
    "            else:\n",
    "                memo[i][j] = memo[i-1][j]\n",
    "    return memo[-1][-1]\n",
    "\n",
    "weight = [1,2,3,4]\n",
    "value = [1,3,4,5]\n",
    "capacity = 7\n",
    "n = 4\n",
    "knapsack_iter(weight, value, capacity, n)"
   ]
  },
  {
   "cell_type": "markdown",
   "metadata": {},
   "source": [
    "Complexity Analysis:\n",
    "- Time Complexity: $T(n) = O(N*W)$ where `N` is the number of weight elements and `W` is the capacity.\n",
    "- Space Complexity: $O(N*W)$ to store the itermediatary results in the dictionary."
   ]
  },
  {
   "cell_type": "markdown",
   "metadata": {},
   "source": [
    "## Types of 0/1 knapsack problems:\n",
    "\n",
    "1. Subset Sum\n",
    "2. Equal Subset Sum Partition\n",
    "3. Count of Subset Sum of a given sum\n",
    "4. Minimum Subset Sum Difference\n",
    "5. Number of subset of given difference\n",
    "6. Target Sum"
   ]
  },
  {
   "cell_type": "markdown",
   "metadata": {},
   "source": [
    "### 1. Subset Sum\n",
    "\n",
    "Given a set of non-negative integers, and a value sum, determine if there is a subset of the given set with sum equal to given sum. "
   ]
  },
  {
   "cell_type": "markdown",
   "metadata": {},
   "source": [
    "### 6. Target Sum"
   ]
  },
  {
   "cell_type": "code",
   "execution_count": null,
   "metadata": {},
   "outputs": [],
   "source": []
  },
  {
   "cell_type": "code",
   "execution_count": 31,
   "metadata": {},
   "outputs": [
    {
     "name": "stdout",
     "output_type": "stream",
     "text": [
      "True\n",
      "True\n",
      "True\n",
      "False\n"
     ]
    }
   ],
   "source": [
    "# Top-Down: Recusive-Memoized Implementation\n",
    "def subsetSum(weight: list, target: int) -> bool:\n",
    "    if len(weight) == 0 and target == 0:\n",
    "        return True\n",
    "    \n",
    "    def helper(idx, target):\n",
    "        # Base Condition\n",
    "        if target == 0:\n",
    "            return True\n",
    "        if idx == 0:\n",
    "            return False\n",
    "        if (idx, target) in memo:\n",
    "            return memo[(idx, target)]\n",
    "\n",
    "        # Choice Diagram\n",
    "        if weight[idx - 1] <= target:\n",
    "            memo[(idx, target)] = helper(idx-1, target - weight[idx-1]) or helper(idx-1, target)\n",
    "        else:\n",
    "            memo[(idx, target)] = helper(idx-1, target)\n",
    "        \n",
    "        return memo[(idx, target)]\n",
    "    \n",
    "    n = len(weight)\n",
    "    memo = dict()\n",
    "    return helper(n, target)\n",
    "    \n",
    "\n",
    "weight = [2, 3, 7, 8, 10]\n",
    "target = 11\n",
    "print(subsetSum(weight, target))\n",
    "\n",
    "weight = [2, 3, 7, 8, 10]\n",
    "target = 0\n",
    "print(subsetSum(weight, target))\n",
    "\n",
    "weight = []\n",
    "target = 0\n",
    "print(subsetSum(weight, target))\n",
    "\n",
    "weight = []\n",
    "target = 1\n",
    "print(subsetSum(weight, target))"
   ]
  },
  {
   "cell_type": "code",
   "execution_count": 32,
   "metadata": {},
   "outputs": [
    {
     "name": "stdout",
     "output_type": "stream",
     "text": [
      "True\n",
      "True\n",
      "True\n",
      "False\n"
     ]
    }
   ],
   "source": [
    "# Bottom-Up: Iterative Implmentation\n",
    "def subsetSum_iter(weight: list, target: int) -> bool:\n",
    "    length = len(weight)\n",
    "    \n",
    "    # Convert base case to initialization\n",
    "    memo = [[False] * (target + 1) for _ in range(length + 1)]\n",
    "    for _ in range(length + 1):\n",
    "        memo[_][0] = True\n",
    "\n",
    "    # Choice diagram\n",
    "    for i in range(1, length + 1):\n",
    "        for j in range(1, target + 1):\n",
    "            if weight[i-1] <= j:\n",
    "                memo[i][j] = memo[i-1][j - weight[i-1]] or memo[i-1][j]\n",
    "            else:\n",
    "                memo[i][j] = memo[i-1][j]\n",
    "    return memo[-1][-1]\n",
    "\n",
    "weight = [2, 3, 7, 8, 10]\n",
    "target = 11\n",
    "print(subsetSum(weight, target))\n",
    "\n",
    "weight = [2, 3, 7, 8, 10]\n",
    "target = 0\n",
    "print(subsetSum(weight, target))\n",
    "\n",
    "weight = []\n",
    "target = 0\n",
    "print(subsetSum(weight, target))\n",
    "\n",
    "weight = []\n",
    "target = 1\n",
    "print(subsetSum(weight, target))"
   ]
  },
  {
   "cell_type": "markdown",
   "metadata": {},
   "source": [
    "### 2. Equal Subset Sum Partition\n",
    "\n",
    "Given a non-empty array nums containing only positive integers, find if the array can be partitioned into two subsets such that the sum of elements in both subsets is equal."
   ]
  },
  {
   "cell_type": "code",
   "execution_count": 18,
   "metadata": {},
   "outputs": [
    {
     "name": "stdout",
     "output_type": "stream",
     "text": [
      "True\n",
      "False\n"
     ]
    }
   ],
   "source": [
    "def equalSubsetSum(arr: list) -> bool:\n",
    "    totalSum = sum(arr)\n",
    "    if totalSum % 2:\n",
    "        return False\n",
    "    \n",
    "    target = totalSum // 2\n",
    "    return subsetSum(arr, target)\n",
    "\n",
    "arr = [1, 5, 11, 5]\n",
    "print(equalSubsetSum(arr))\n",
    "\n",
    "arr = [2, 1, 1, 2, 3]\n",
    "print(equalSubsetSum(arr))"
   ]
  },
  {
   "cell_type": "markdown",
   "metadata": {},
   "source": [
    "### 3. Count of Subset Sum of a given sum"
   ]
  },
  {
   "cell_type": "code",
   "execution_count": 36,
   "metadata": {},
   "outputs": [
    {
     "name": "stdout",
     "output_type": "stream",
     "text": [
      "3\n",
      "6\n"
     ]
    }
   ],
   "source": [
    "def countSubsetSum(weight: list, target: int) -> int:\n",
    "    if len(weight) == 0 and target == 0:\n",
    "        return 1\n",
    "    \n",
    "    def helper(idx, target):\n",
    "        # Base Condition\n",
    "        if target == 0:\n",
    "            return 1\n",
    "        if idx == 0:\n",
    "            return 0\n",
    "        \n",
    "        if (idx, target) in memo:\n",
    "            return memo[(idx, target)]\n",
    "\n",
    "        # Choice Diagram\n",
    "        if weight[idx - 1] <= target:\n",
    "            memo[(idx, target)] = helper(idx-1, target - weight[idx-1]) + helper(idx-1, target)\n",
    "        else:\n",
    "            memo[(idx, target)] = helper(idx-1, target)\n",
    "        \n",
    "        return memo[(idx, target)]\n",
    "    \n",
    "    n = len(weight)\n",
    "    memo = dict()\n",
    "    return helper(n, target)\n",
    "\n",
    "weight = [2, 3, 5, 6, 8, 10]\n",
    "target = 10\n",
    "print(countSubsetSum(weight, target))\n",
    "\n",
    "weight = [3, 3, 3, 3]\n",
    "target = 6\n",
    "print(countSubsetSum(weight, target))"
   ]
  },
  {
   "cell_type": "code",
   "execution_count": 40,
   "metadata": {},
   "outputs": [
    {
     "name": "stdout",
     "output_type": "stream",
     "text": [
      "1\n",
      "1\n",
      "1\n",
      "0\n",
      "3\n",
      "6\n"
     ]
    }
   ],
   "source": [
    "# Bottom-Up: Iterative Implmentation\n",
    "def countSubsetSum_iter(weight: list, target: int) -> bool:\n",
    "    length = len(weight)\n",
    "    \n",
    "    # Convert base case to initialization\n",
    "    memo = [[0] * (target + 1) for _ in range(length + 1)]\n",
    "    for _ in range(length + 1):\n",
    "        memo[_][0] = 1\n",
    "\n",
    "    # Choice diagram\n",
    "    for i in range(1, length + 1):\n",
    "        for j in range(1, target + 1):\n",
    "            if weight[i-1] <= j:\n",
    "                memo[i][j] = memo[i-1][j - weight[i-1]] + memo[i-1][j]\n",
    "            else:\n",
    "                memo[i][j] = memo[i-1][j]\n",
    "    return memo[-1][-1]\n",
    "\n",
    "weight = [2, 3, 7, 8, 10]\n",
    "target = 11\n",
    "print(countSubsetSum_iter(weight, target))\n",
    "\n",
    "weight = [2, 3, 7, 8, 10]\n",
    "target = 0\n",
    "print(countSubsetSum_iter(weight, target))\n",
    "\n",
    "weight = []\n",
    "target = 0\n",
    "print(countSubsetSum_iter(weight, target))\n",
    "\n",
    "weight = []\n",
    "target = 1\n",
    "print(countSubsetSum_iter(weight, target))\n",
    "\n",
    "weight = [2, 3, 5, 6, 8, 10]\n",
    "target = 10\n",
    "print(countSubsetSum_iter(weight, target))\n",
    "\n",
    "weight = [3, 3, 3, 3]\n",
    "target = 6\n",
    "print(countSubsetSum_iter(weight, target))"
   ]
  },
  {
   "cell_type": "markdown",
   "metadata": {},
   "source": [
    "### 4. Minimum Subset Sum Difference\n",
    "\n",
    "Given a set of integers, the task is to divide it into two sets S1 and S2 such that the absolute difference between their sums is minimum. "
   ]
  },
  {
   "cell_type": "code",
   "execution_count": 63,
   "metadata": {},
   "outputs": [
    {
     "name": "stdout",
     "output_type": "stream",
     "text": [
      "1\n"
     ]
    }
   ],
   "source": [
    "def minSubsetSumDiff(weight: list) -> int:\n",
    "    if len(weight) == 0 and target == 0:\n",
    "        return 0\n",
    "    \n",
    "    total_range = sum(weight)\n",
    "\n",
    "    def helper(idx, target):\n",
    "        # Base Condition\n",
    "        if idx == 0:\n",
    "            return abs(total_range - 2 * target)\n",
    "        if (idx, target) in memo:\n",
    "            return memo[(idx, target)]\n",
    "\n",
    "        # Choice Diagram\n",
    "        if weight[idx - 1] <= target:\n",
    "            memo[(idx, target)] = min(helper(idx-1, target - weight[idx-1]), helper(idx-1, target))\n",
    "        else:\n",
    "            memo[(idx, target)] = helper(idx-1, target)\n",
    "        \n",
    "        return memo[(idx, target)]\n",
    "    \n",
    "    n = len(weight)\n",
    "    memo = dict()\n",
    "    return helper(n, total_range)\n",
    "\n",
    "arr = [1,6,11,5]\n",
    "print(minSubsetSumDiff(arr))"
   ]
  },
  {
   "cell_type": "code",
   "execution_count": 54,
   "metadata": {},
   "outputs": [
    {
     "name": "stdout",
     "output_type": "stream",
     "text": [
      "0\n"
     ]
    }
   ],
   "source": [
    "def minSubsetSumDiff_iter(weight: list) -> int:\n",
    "    length = len(weight)\n",
    "    total_range = sum(weight)\n",
    "    \n",
    "    # Convert base case to initialization\n",
    "    memo = [[False] * (total_range + 1) for _ in range(length + 1)]\n",
    "    for _ in range(length + 1):\n",
    "        memo[_][0] = True\n",
    "\n",
    "    # Choice diagram\n",
    "    for i in range(1, length + 1):\n",
    "        for j in range(1, total_range + 1):\n",
    "            if weight[i-1] <= j:\n",
    "                memo[i][j] = memo[i-1][j - weight[i-1]] or memo[i-1][j]\n",
    "            else:\n",
    "                memo[i][j] = memo[i-1][j]\n",
    "    \n",
    "    half = total_range // 2\n",
    "    minimum = math.inf\n",
    "    for col in range(half + 1):\n",
    "        if memo[-1][col]:\n",
    "            minimum = min(minimum, total_range - 2 * col)\n",
    "    return minimum\n",
    "\n",
    "# arr = [1,2,7]\n",
    "# arr = [1,6,11,5]\n",
    "arr = []\n",
    "print(minSubsetSumDiff_iter(arr))"
   ]
  },
  {
   "cell_type": "markdown",
   "metadata": {},
   "source": [
    "### 5. Number of subset of given difference"
   ]
  },
  {
   "cell_type": "code",
   "execution_count": 64,
   "metadata": {},
   "outputs": [
    {
     "data": {
      "text/plain": [
       "3"
      ]
     },
     "execution_count": 64,
     "metadata": {},
     "output_type": "execute_result"
    }
   ],
   "source": [
    "def countSubsetDiff(arr: list, diff: int) -> int:\n",
    "    target = (sum(arr) + diff) // 2\n",
    "    return countSubsetSum(arr, target)\n",
    "\n",
    "arr = [1, 1, 2, 3]\n",
    "diff = 1\n",
    "countSubsetDiff(arr, diff)"
   ]
  },
  {
   "cell_type": "markdown",
   "metadata": {},
   "source": [
    "### 6. Target Sum"
   ]
  },
  {
   "cell_type": "code",
   "execution_count": 65,
   "metadata": {},
   "outputs": [
    {
     "data": {
      "text/plain": [
       "3"
      ]
     },
     "execution_count": 65,
     "metadata": {},
     "output_type": "execute_result"
    }
   ],
   "source": [
    "def targetSum(arr, target):\n",
    "    return countSubsetDiff(arr, target)\n",
    "\n",
    "arr = [1, 1, 2, 3]\n",
    "target_sum = 1\n",
    "targetSum(arr, target_sum)"
   ]
  },
  {
   "cell_type": "code",
   "execution_count": null,
   "metadata": {},
   "outputs": [],
   "source": []
  },
  {
   "cell_type": "code",
   "execution_count": 71,
   "metadata": {},
   "outputs": [
    {
     "name": "stdout",
     "output_type": "stream",
     "text": [
      "{'I-20': 55,\n",
      " 'OPT': 410,\n",
      " 'birthday': 50,\n",
      " 'credit card': 498.33,\n",
      " 'electricity': 20,\n",
      " 'food + misc': 100,\n",
      " 'gas': 30,\n",
      " 'gifts': 21,\n",
      " 'nov rent': 325,\n",
      " 'splitwise': 50.15}\n",
      "{'bank': 156.97, 'splitwise': 138.92}\n",
      "1559.48\n",
      "295.89\n",
      "-1263.5900000000001\n"
     ]
    }
   ],
   "source": [
    "from pprint import pprint\n",
    "expense = {\n",
    "    \"splitwise\": 50.15,\n",
    "    \"credit card\": 498.33,\n",
    "    \"nov rent\": 325,\n",
    "    \"electricity\": 20,\n",
    "    \"gas\": 30,\n",
    "    \"gifts\": 21,\n",
    "    \"food + misc\": 100,\n",
    "    \"OPT\": 410,\n",
    "    \"I-20\": 55,\n",
    "    \"birthday\": 50\n",
    "}\n",
    "income = {\n",
    "    \"splitwise\": 138.92,\n",
    "    \"bank\": 156.97\n",
    "}\n",
    "pprint(expense)\n",
    "pprint(income)\n",
    "print(sum(expense.values()))\n",
    "print(sum(income.values()))\n",
    "print(sum(income.values()) - sum(expense.values()))"
   ]
  },
  {
   "cell_type": "code",
   "execution_count": null,
   "metadata": {},
   "outputs": [],
   "source": []
  }
 ],
 "metadata": {
  "kernelspec": {
   "display_name": "Python 3.9.7 ('base')",
   "language": "python",
   "name": "python3"
  },
  "language_info": {
   "codemirror_mode": {
    "name": "ipython",
    "version": 3
   },
   "file_extension": ".py",
   "mimetype": "text/x-python",
   "name": "python",
   "nbconvert_exporter": "python",
   "pygments_lexer": "ipython3",
   "version": "3.9.13"
  },
  "orig_nbformat": 4,
  "vscode": {
   "interpreter": {
    "hash": "fd445e0a0df0ef733fdb8c310832b941832eb7caa98a80420cc6aa033e01117c"
   }
  }
 },
 "nbformat": 4,
 "nbformat_minor": 2
}
