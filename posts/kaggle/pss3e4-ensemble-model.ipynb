{
 "cells": [
  {
   "attachments": {},
   "cell_type": "markdown",
   "id": "2e255fd1",
   "metadata": {},
   "source": [
    "---\n",
    "title: \"Modeling - Playground Series Season 3, Episode 4\"\n",
    "description: \"Tabular Classification with a Credit Card Fraud Dataset\"\n",
    "author: \"Sagar Thacker\"\n",
    "date: \"2023-01-30\"\n",
    "categories: [Kaggle]\n",
    "image: \"money.jpeg\"\n",
    "format:\n",
    "    html:\n",
    "        toc: true\n",
    "        code-overflow: wrap\n",
    "        code-line-numbers: true\n",
    "jupyter: python3\n",
    "---\n"
   ]
  },
  {
   "attachments": {},
   "cell_type": "markdown",
   "id": "8154d47c",
   "metadata": {
    "tags": []
   },
   "source": [
    "To read more about Exploratory Data Analysis for this problem statement, you can read my notebook [here](./pss3e4-eda.html)\n",
    "\n",
    "It was my first try at a kaggle comptetion and I got a lot to learn. This notebook helped me get a score of:\n",
    "\n",
    "-   Public Score: 0.85646\n",
    "-   Private score: 0.81208\n",
    "\n",
    "Position: 138/641\n"
   ]
  },
  {
   "cell_type": "code",
   "execution_count": 1,
   "id": "a13864e2",
   "metadata": {
    "tags": []
   },
   "outputs": [
    {
     "data": {
      "text/html": [
       "<style type='text/css'>\n",
       ".datatable table.frame { margin-bottom: 0; }\n",
       ".datatable table.frame thead { border-bottom: none; }\n",
       ".datatable table.frame tr.coltypes td {  color: #FFFFFF;  line-height: 6px;  padding: 0 0.5em;}\n",
       ".datatable .bool    { background: #DDDD99; }\n",
       ".datatable .object  { background: #565656; }\n",
       ".datatable .int     { background: #5D9E5D; }\n",
       ".datatable .float   { background: #4040CC; }\n",
       ".datatable .str     { background: #CC4040; }\n",
       ".datatable .time    { background: #40CC40; }\n",
       ".datatable .row_index {  background: var(--jp-border-color3);  border-right: 1px solid var(--jp-border-color0);  color: var(--jp-ui-font-color3);  font-size: 9px;}\n",
       ".datatable .frame tbody td { text-align: left; }\n",
       ".datatable .frame tr.coltypes .row_index {  background: var(--jp-border-color0);}\n",
       ".datatable th:nth-child(2) { padding-left: 12px; }\n",
       ".datatable .hellipsis {  color: var(--jp-cell-editor-border-color);}\n",
       ".datatable .vellipsis {  background: var(--jp-layout-color0);  color: var(--jp-cell-editor-border-color);}\n",
       ".datatable .na {  color: var(--jp-cell-editor-border-color);  font-size: 80%;}\n",
       ".datatable .sp {  opacity: 0.25;}\n",
       ".datatable .footer { font-size: 9px; }\n",
       ".datatable .frame_dimensions {  background: var(--jp-border-color3);  border-top: 1px solid var(--jp-border-color0);  color: var(--jp-ui-font-color3);  display: inline-block;  opacity: 0.6;  padding: 1px 10px 1px 5px;}\n",
       "</style>\n"
      ],
      "text/plain": [
       "<IPython.core.display.HTML object>"
      ]
     },
     "metadata": {},
     "output_type": "display_data"
    }
   ],
   "source": [
    "# | code-fold: true\n",
    "# Import libraries\n",
    "\n",
    "import numpy as np\n",
    "import pandas as pd\n",
    "import catboost\n",
    "import seaborn as sns\n",
    "import matplotlib.pyplot as plt\n",
    "\n",
    "from sklearn.preprocessing import RobustScaler\n",
    "from sklearn.linear_model import LogisticRegression\n",
    "from sklearn.model_selection import StratifiedKFold\n",
    "from sklearn.metrics import roc_auc_score\n",
    "from collections import defaultdict\n",
    "from xgboost import XGBClassifier\n",
    "from lightgbm import LGBMClassifier\n",
    "from catboost import CatBoostClassifier\n",
    "from boruta import BorutaPy\n",
    "\n",
    "pd.options.display.max_columns = None\n",
    "%matplotlib inline\n"
   ]
  },
  {
   "attachments": {},
   "cell_type": "markdown",
   "id": "ed1608f9",
   "metadata": {
    "papermill": {
     "duration": 0.009548,
     "end_time": "2023-01-31T00:07:18.642868",
     "exception": false,
     "start_time": "2023-01-31T00:07:18.633320",
     "status": "completed"
    },
    "tags": []
   },
   "source": [
    "## 1. Data Description\n",
    "\n",
    "The dataset for this competition (both train and test) was generated from a deep learning model trained on the [Credit Card Fraud Detection](https://www.kaggle.com/datasets/mlg-ulb/creditcardfraud). Feature distributions are close to, but not exactly the same, as the original.\n",
    "\n",
    "We are given three files:\n",
    "\n",
    "-   train.csv - the training dataset; Class is the target\n",
    "-   test.csv - the test dataset; our objective is to predict Class\n",
    "-   sample_submission.csv - a sample submission file in the correct format\n",
    "\n",
    "Description of each column:\n",
    "\n",
    "| Feature | Description                                                                                 |\n",
    "| :------ | :------------------------------------------------------------------------------------------ |\n",
    "| id      | Indentifier for unique rows                                                                 |\n",
    "| Time    | Number of seconds elapsed between this transaction and the first transaction in the dataset |\n",
    "| V1-V28  | Features generated from the original dataset                                                |\n",
    "| Amount  | Transaction amount                                                                          |\n",
    "| Class   | Target Feature: 1 for fraudulent transactions, 0 otherwise                                  |\n",
    "\n",
    ": Feature Description {tbl-colwidths=\"[10,75]\"}\n"
   ]
  },
  {
   "attachments": {},
   "cell_type": "markdown",
   "id": "c1e600b7",
   "metadata": {
    "papermill": {
     "duration": 0.009464,
     "end_time": "2023-01-31T00:07:18.662198",
     "exception": false,
     "start_time": "2023-01-31T00:07:18.652734",
     "status": "completed"
    },
    "tags": []
   },
   "source": [
    "## 2. Data Preparation\n"
   ]
  },
  {
   "cell_type": "code",
   "execution_count": 2,
   "id": "d0bcbe79",
   "metadata": {
    "execution": {
     "iopub.execute_input": "2023-01-31T00:07:18.687884Z",
     "iopub.status.busy": "2023-01-31T00:07:18.687020Z",
     "iopub.status.idle": "2023-01-31T00:07:29.801630Z",
     "shell.execute_reply": "2023-01-31T00:07:29.800486Z"
    },
    "papermill": {
     "duration": 11.129774,
     "end_time": "2023-01-31T00:07:29.804840",
     "exception": false,
     "start_time": "2023-01-31T00:07:18.675066",
     "status": "completed"
    },
    "tags": []
   },
   "outputs": [],
   "source": [
    "__dirname = '../input/playground-series-s3e4/'\n",
    "og_data = '/kaggle/input/creditcardfraud/creditcard.csv'\n",
    "\n",
    "train = pd.read_csv(__dirname + 'train.csv')\n",
    "test = pd.read_csv(__dirname + 'test.csv')\n",
    "original = pd.read_csv(og_data)\n",
    "submissions = pd.read_csv(__dirname + 'sample_submission.csv')\n"
   ]
  },
  {
   "cell_type": "code",
   "execution_count": 3,
   "id": "4d4e2f29",
   "metadata": {
    "execution": {
     "iopub.execute_input": "2023-01-31T00:07:29.826937Z",
     "iopub.status.busy": "2023-01-31T00:07:29.826526Z",
     "iopub.status.idle": "2023-01-31T00:07:29.833271Z",
     "shell.execute_reply": "2023-01-31T00:07:29.831975Z"
    },
    "papermill": {
     "duration": 0.022193,
     "end_time": "2023-01-31T00:07:29.837011",
     "exception": false,
     "start_time": "2023-01-31T00:07:29.814818",
     "status": "completed"
    },
    "tags": []
   },
   "outputs": [
    {
     "name": "stdout",
     "output_type": "stream",
     "text": [
      "Training set has 219129 rows and 32 columns\n",
      "Testing set has 146087 rows and 31 columns\n",
      "Original set has 284807 rows and 31 columns\n"
     ]
    }
   ],
   "source": [
    "print(f\"Training set has {train.shape[0]} rows and {train.shape[1]} columns\")\n",
    "print(f\"Testing set has {test.shape[0]} rows and {test.shape[1]} columns\")\n",
    "print(\n",
    "    f\"Original set has {original.shape[0]} rows and {original.shape[1]} columns\")\n"
   ]
  },
  {
   "cell_type": "code",
   "execution_count": 4,
   "id": "699a485a",
   "metadata": {
    "execution": {
     "iopub.execute_input": "2023-01-31T00:07:29.862204Z",
     "iopub.status.busy": "2023-01-31T00:07:29.861792Z",
     "iopub.status.idle": "2023-01-31T00:07:29.913095Z",
     "shell.execute_reply": "2023-01-31T00:07:29.911915Z"
    },
    "papermill": {
     "duration": 0.066788,
     "end_time": "2023-01-31T00:07:29.916764",
     "exception": false,
     "start_time": "2023-01-31T00:07:29.849976",
     "status": "completed"
    },
    "tags": []
   },
   "outputs": [
    {
     "name": "stdout",
     "output_type": "stream",
     "text": [
      "Number of missing values in training set: 0\n",
      "Number of missing values in testing set: 0\n",
      "Number of missing values in original set: 0\n"
     ]
    }
   ],
   "source": [
    "# Check for missing values\n",
    "print(f\"Number of missing values in training set: {sum(train.isna().sum())}\")\n",
    "print(f\"Number of missing values in testing set: {sum(test.isna().sum())}\")\n",
    "print(\n",
    "    f\"Number of missing values in original set: {sum(original.isna().sum())}\")\n"
   ]
  },
  {
   "cell_type": "code",
   "execution_count": 5,
   "id": "57969c72",
   "metadata": {
    "execution": {
     "iopub.execute_input": "2023-01-31T00:07:29.940794Z",
     "iopub.status.busy": "2023-01-31T00:07:29.939477Z",
     "iopub.status.idle": "2023-01-31T00:07:30.020137Z",
     "shell.execute_reply": "2023-01-31T00:07:30.018845Z"
    },
    "papermill": {
     "duration": 0.095047,
     "end_time": "2023-01-31T00:07:30.023021",
     "exception": false,
     "start_time": "2023-01-31T00:07:29.927974",
     "status": "completed"
    },
    "tags": []
   },
   "outputs": [],
   "source": [
    "# Merge train and original\n",
    "train = pd.concat([train, original], axis=0, ignore_index=True)\n"
   ]
  },
  {
   "cell_type": "code",
   "execution_count": 6,
   "id": "b9aa6e97",
   "metadata": {
    "execution": {
     "iopub.execute_input": "2023-01-31T00:07:30.046076Z",
     "iopub.status.busy": "2023-01-31T00:07:30.045128Z",
     "iopub.status.idle": "2023-01-31T00:07:32.268150Z",
     "shell.execute_reply": "2023-01-31T00:07:32.266857Z"
    },
    "papermill": {
     "duration": 2.237685,
     "end_time": "2023-01-31T00:07:32.270876",
     "exception": false,
     "start_time": "2023-01-31T00:07:30.033191",
     "status": "completed"
    },
    "tags": []
   },
   "outputs": [
    {
     "name": "stdout",
     "output_type": "stream",
     "text": [
      " Number of duplicates with new criteria: 9254\n"
     ]
    }
   ],
   "source": [
    "cols = [col for col in train.columns if col not in ['id', 'Time']]\n",
    "print(' Number of duplicates with new criteria:',\n",
    "      train[cols].duplicated().sum())\n"
   ]
  },
  {
   "cell_type": "code",
   "execution_count": 7,
   "id": "1e0960fb",
   "metadata": {
    "execution": {
     "iopub.execute_input": "2023-01-31T00:07:32.292858Z",
     "iopub.status.busy": "2023-01-31T00:07:32.292466Z",
     "iopub.status.idle": "2023-01-31T00:07:34.472567Z",
     "shell.execute_reply": "2023-01-31T00:07:34.471288Z"
    },
    "papermill": {
     "duration": 2.19435,
     "end_time": "2023-01-31T00:07:34.475174",
     "exception": false,
     "start_time": "2023-01-31T00:07:32.280824",
     "status": "completed"
    },
    "tags": []
   },
   "outputs": [],
   "source": [
    "# Drop Duplicates\n",
    "train.drop_duplicates(subset=cols, inplace=True, keep='first')\n"
   ]
  },
  {
   "cell_type": "code",
   "execution_count": 8,
   "id": "fda211a4",
   "metadata": {
    "execution": {
     "iopub.execute_input": "2023-01-31T00:07:34.497565Z",
     "iopub.status.busy": "2023-01-31T00:07:34.497164Z",
     "iopub.status.idle": "2023-01-31T00:07:34.552240Z",
     "shell.execute_reply": "2023-01-31T00:07:34.550931Z"
    },
    "papermill": {
     "duration": 0.069605,
     "end_time": "2023-01-31T00:07:34.554977",
     "exception": false,
     "start_time": "2023-01-31T00:07:34.485372",
     "status": "completed"
    },
    "tags": []
   },
   "outputs": [],
   "source": [
    "# Drop columns\n",
    "train.drop(['id', 'Time'], axis=1, inplace=True)\n",
    "test.drop(['id', 'Time'], axis=1, inplace=True)\n"
   ]
  },
  {
   "attachments": {},
   "cell_type": "markdown",
   "id": "e2510da4",
   "metadata": {
    "papermill": {
     "duration": 0.009836,
     "end_time": "2023-01-31T00:07:34.575119",
     "exception": false,
     "start_time": "2023-01-31T00:07:34.565283",
     "status": "completed"
    },
    "tags": []
   },
   "source": [
    "## 3. Modeling\n"
   ]
  },
  {
   "cell_type": "code",
   "execution_count": 9,
   "id": "188813c0",
   "metadata": {
    "execution": {
     "iopub.execute_input": "2023-01-31T00:07:34.597577Z",
     "iopub.status.busy": "2023-01-31T00:07:34.597122Z",
     "iopub.status.idle": "2023-01-31T00:07:35.349068Z",
     "shell.execute_reply": "2023-01-31T00:07:35.347863Z"
    },
    "papermill": {
     "duration": 0.766532,
     "end_time": "2023-01-31T00:07:35.351824",
     "exception": false,
     "start_time": "2023-01-31T00:07:34.585292",
     "status": "completed"
    },
    "tags": []
   },
   "outputs": [],
   "source": [
    "# Perform feature scaling\n",
    "scaler = RobustScaler()\n",
    "\n",
    "cols = test.columns\n",
    "train[cols] = scaler.fit_transform(train[cols])\n",
    "test[cols] = scaler.transform(test[cols])\n"
   ]
  },
  {
   "cell_type": "code",
   "execution_count": 10,
   "id": "567dd6e9",
   "metadata": {
    "execution": {
     "iopub.execute_input": "2023-01-31T00:07:35.374949Z",
     "iopub.status.busy": "2023-01-31T00:07:35.374488Z",
     "iopub.status.idle": "2023-01-31T00:07:35.419127Z",
     "shell.execute_reply": "2023-01-31T00:07:35.417953Z"
    },
    "papermill": {
     "duration": 0.058662,
     "end_time": "2023-01-31T00:07:35.421529",
     "exception": false,
     "start_time": "2023-01-31T00:07:35.362867",
     "status": "completed"
    },
    "tags": []
   },
   "outputs": [],
   "source": [
    "X_train, y_train = train.drop('Class', axis=1), train.Class\n"
   ]
  },
  {
   "cell_type": "code",
   "execution_count": 11,
   "id": "732c5b80",
   "metadata": {
    "execution": {
     "iopub.execute_input": "2023-01-31T00:07:35.443615Z",
     "iopub.status.busy": "2023-01-31T00:07:35.443171Z",
     "iopub.status.idle": "2023-01-31T00:07:35.447827Z",
     "shell.execute_reply": "2023-01-31T00:07:35.447047Z"
    },
    "papermill": {
     "duration": 0.018245,
     "end_time": "2023-01-31T00:07:35.450019",
     "exception": false,
     "start_time": "2023-01-31T00:07:35.431774",
     "status": "completed"
    },
    "tags": []
   },
   "outputs": [],
   "source": [
    "# Dictionary to save model results\n",
    "results = defaultdict(lambda: defaultdict(list))\n"
   ]
  },
  {
   "cell_type": "code",
   "execution_count": 12,
   "id": "f0bdc9f6",
   "metadata": {
    "execution": {
     "iopub.execute_input": "2023-01-31T00:07:35.471819Z",
     "iopub.status.busy": "2023-01-31T00:07:35.471381Z",
     "iopub.status.idle": "2023-01-31T00:07:35.476958Z",
     "shell.execute_reply": "2023-01-31T00:07:35.476045Z"
    },
    "papermill": {
     "duration": 0.019227,
     "end_time": "2023-01-31T00:07:35.479249",
     "exception": false,
     "start_time": "2023-01-31T00:07:35.460022",
     "status": "completed"
    },
    "tags": []
   },
   "outputs": [],
   "source": [
    "# Function to plot feature importance\n",
    "def plot_feature_imp(df, col):\n",
    "    df = pd.concat(df, axis=1).head(15)\n",
    "    df.sort_values(col).plot(kind='barh', figsize=(\n",
    "        15, 10), title=\"Feature Imp Across Folds\")\n",
    "    plt.show()\n"
   ]
  },
  {
   "attachments": {},
   "cell_type": "markdown",
   "id": "003fd550",
   "metadata": {
    "papermill": {
     "duration": 0.009839,
     "end_time": "2023-01-31T00:07:35.499333",
     "exception": false,
     "start_time": "2023-01-31T00:07:35.489494",
     "status": "completed"
    },
    "tags": []
   },
   "source": [
    "### 3.1. Baseline Model\n"
   ]
  },
  {
   "cell_type": "code",
   "execution_count": 13,
   "id": "33e75cbe",
   "metadata": {
    "execution": {
     "iopub.execute_input": "2023-01-31T00:07:35.521139Z",
     "iopub.status.busy": "2023-01-31T00:07:35.520725Z",
     "iopub.status.idle": "2023-01-31T00:08:05.245112Z",
     "shell.execute_reply": "2023-01-31T00:08:05.243011Z"
    },
    "papermill": {
     "duration": 29.741409,
     "end_time": "2023-01-31T00:08:05.250775",
     "exception": false,
     "start_time": "2023-01-31T00:07:35.509366",
     "status": "completed"
    },
    "tags": []
   },
   "outputs": [
    {
     "name": "stdout",
     "output_type": "stream",
     "text": [
      "Fold=1, AUC score: 0.85\n",
      "Fold=2, AUC score: 0.88\n",
      "Fold=3, AUC score: 0.88\n",
      "Fold=4, AUC score: 0.87\n",
      "Fold=5, AUC score: 0.86\n",
      "Mean AUC: 0.8679439362536849\n"
     ]
    }
   ],
   "source": [
    "n_folds = 5\n",
    "seed = 42\n",
    "model = 'Logistic Regression'\n",
    "\n",
    "skf = StratifiedKFold(n_splits=n_folds, shuffle=True, random_state=seed)\n",
    "test_pred = 0\n",
    "\n",
    "results[model] = defaultdict(list)\n",
    "\n",
    "for idx, (train_idx, test_idx) in enumerate(skf.split(X_train, y_train)):\n",
    "    X, y = X_train.iloc[train_idx], y_train.iloc[train_idx]\n",
    "    X_valid, y_valid = X_train.iloc[test_idx], y_train.iloc[test_idx]\n",
    "\n",
    "    lr = LogisticRegression()\n",
    "\n",
    "    # Fit the model\n",
    "    lr.fit(X, y)\n",
    "    # Predict on validation set\n",
    "    pred_proba = lr.predict_proba(X_valid)[:, 1]\n",
    "\n",
    "    # Predict on test set\n",
    "    test_pred_proba = lr.predict_proba(test)[:, 1]\n",
    "    test_pred += test_pred_proba/n_folds\n",
    "\n",
    "    # Calcualte AUC score\n",
    "    auc = roc_auc_score(y_valid, pred_proba)\n",
    "\n",
    "    # Feature Importance\n",
    "    feature_imp = pd.DataFrame(index=X_train.columns,\n",
    "                               data=lr.coef_[0],\n",
    "                               columns=[f\"{idx + 1}_importance\"])\n",
    "\n",
    "    print(f\"Fold={idx+1}, AUC score: {auc:.2f}\")\n",
    "\n",
    "    # Save Results\n",
    "    results[model]['auc'].append(auc)\n",
    "    results[model]['model'].append(lr)\n",
    "    results[model]['feature_imp'].append(feature_imp)\n",
    "\n",
    "results[model]['test_pred'] = test_pred\n",
    "print(f\"Mean AUC: {np.mean(results[model]['auc'])}\")\n"
   ]
  },
  {
   "cell_type": "code",
   "execution_count": 14,
   "id": "5020fe68",
   "metadata": {
    "execution": {
     "iopub.execute_input": "2023-01-31T00:08:05.300095Z",
     "iopub.status.busy": "2023-01-31T00:08:05.299634Z",
     "iopub.status.idle": "2023-01-31T00:08:05.783083Z",
     "shell.execute_reply": "2023-01-31T00:08:05.781916Z"
    },
    "papermill": {
     "duration": 0.505661,
     "end_time": "2023-01-31T00:08:05.785545",
     "exception": false,
     "start_time": "2023-01-31T00:08:05.279884",
     "status": "completed"
    },
    "tags": []
   },
   "outputs": [
    {
     "data": {
      "image/png": "[encoded data removed]",
      "text/plain": [
       "<Figure size 1080x720 with 1 Axes>"
      ]
     },
     "metadata": {
      "needs_background": "light"
     },
     "output_type": "display_data"
    }
   ],
   "source": [
    "# Plot feature importance for logistic regression model\n",
    "plot_feature_imp(results[model]['feature_imp'], \"2_importance\")\n"
   ]
  },
  {
   "cell_type": "code",
   "execution_count": 15,
   "id": "6d110691",
   "metadata": {
    "execution": {
     "iopub.execute_input": "2023-01-31T00:08:05.810825Z",
     "iopub.status.busy": "2023-01-31T00:08:05.808567Z",
     "iopub.status.idle": "2023-01-31T00:08:06.183074Z",
     "shell.execute_reply": "2023-01-31T00:08:06.181848Z"
    },
    "papermill": {
     "duration": 0.389397,
     "end_time": "2023-01-31T00:08:06.185869",
     "exception": false,
     "start_time": "2023-01-31T00:08:05.796472",
     "status": "completed"
    },
    "tags": []
   },
   "outputs": [],
   "source": [
    "# Made a baseline submission to see how the model performs\n",
    "lr_submission = submissions.copy()\n",
    "lr_submission['Class'] = results[model]['test_pred']\n",
    "lr_submission.to_csv('lr_submission.csv', index=False)\n"
   ]
  },
  {
   "cell_type": "code",
   "execution_count": 16,
   "id": "02d634b3",
   "metadata": {
    "execution": {
     "iopub.execute_input": "2023-01-31T00:08:06.209699Z",
     "iopub.status.busy": "2023-01-31T00:08:06.208759Z",
     "iopub.status.idle": "2023-01-31T00:08:06.222790Z",
     "shell.execute_reply": "2023-01-31T00:08:06.221811Z"
    },
    "papermill": {
     "duration": 0.028525,
     "end_time": "2023-01-31T00:08:06.225284",
     "exception": false,
     "start_time": "2023-01-31T00:08:06.196759",
     "status": "completed"
    },
    "tags": []
   },
   "outputs": [
    {
     "data": {
      "text/html": [
       "<div>\n",
       "<style scoped>\n",
       "    .dataframe tbody tr th:only-of-type {\n",
       "        vertical-align: middle;\n",
       "    }\n",
       "\n",
       "    .dataframe tbody tr th {\n",
       "        vertical-align: top;\n",
       "    }\n",
       "\n",
       "    .dataframe thead th {\n",
       "        text-align: right;\n",
       "    }\n",
       "</style>\n",
       "<table border=\"1\" class=\"dataframe\">\n",
       "  <thead>\n",
       "    <tr style=\"text-align: right;\">\n",
       "      <th></th>\n",
       "      <th>id</th>\n",
       "      <th>Class</th>\n",
       "    </tr>\n",
       "  </thead>\n",
       "  <tbody>\n",
       "    <tr>\n",
       "      <th>0</th>\n",
       "      <td>219129</td>\n",
       "      <td>0.001192</td>\n",
       "    </tr>\n",
       "    <tr>\n",
       "      <th>1</th>\n",
       "      <td>219130</td>\n",
       "      <td>0.000621</td>\n",
       "    </tr>\n",
       "    <tr>\n",
       "      <th>2</th>\n",
       "      <td>219131</td>\n",
       "      <td>0.000201</td>\n",
       "    </tr>\n",
       "    <tr>\n",
       "      <th>3</th>\n",
       "      <td>219132</td>\n",
       "      <td>0.000699</td>\n",
       "    </tr>\n",
       "    <tr>\n",
       "      <th>4</th>\n",
       "      <td>219133</td>\n",
       "      <td>0.000361</td>\n",
       "    </tr>\n",
       "  </tbody>\n",
       "</table>\n",
       "</div>"
      ],
      "text/plain": [
       "       id     Class\n",
       "0  219129  0.001192\n",
       "1  219130  0.000621\n",
       "2  219131  0.000201\n",
       "3  219132  0.000699\n",
       "4  219133  0.000361"
      ]
     },
     "execution_count": 16,
     "metadata": {},
     "output_type": "execute_result"
    }
   ],
   "source": [
    "lr_submission.head()\n"
   ]
  },
  {
   "attachments": {},
   "cell_type": "markdown",
   "id": "f91763f5",
   "metadata": {
    "papermill": {
     "duration": 0.010632,
     "end_time": "2023-01-31T00:08:06.247201",
     "exception": false,
     "start_time": "2023-01-31T00:08:06.236569",
     "status": "completed"
    },
    "tags": []
   },
   "source": [
    "### 3.2. XGBoost Classifier\n"
   ]
  },
  {
   "cell_type": "code",
   "execution_count": 17,
   "id": "4efccc7a",
   "metadata": {
    "execution": {
     "iopub.execute_input": "2023-01-31T00:08:06.271233Z",
     "iopub.status.busy": "2023-01-31T00:08:06.270163Z",
     "iopub.status.idle": "2023-01-31T00:08:06.275754Z",
     "shell.execute_reply": "2023-01-31T00:08:06.275020Z"
    },
    "papermill": {
     "duration": 0.019659,
     "end_time": "2023-01-31T00:08:06.277810",
     "exception": false,
     "start_time": "2023-01-31T00:08:06.258151",
     "status": "completed"
    },
    "tags": []
   },
   "outputs": [],
   "source": [
    "xgb_params = {\n",
    "    'n_estimators': 2000,\n",
    "    'min_child_weight': 96,\n",
    "    'max_depth': 7,\n",
    "    'learning_rate': 0.18,\n",
    "    'subsample': 0.95,\n",
    "    'colsample_bytree': 0.95,\n",
    "    'reg_lambda': 1.50,\n",
    "    'reg_alpha': 1.50,\n",
    "    'gamma': 1.50,\n",
    "    'max_bin': 512,\n",
    "    'random_state': seed,\n",
    "    'objective': 'binary:logistic',\n",
    "    'tree_method': 'hist',\n",
    "    'eval_metric': 'auc'\n",
    "}\n"
   ]
  },
  {
   "cell_type": "code",
   "execution_count": 18,
   "id": "b3f35c80",
   "metadata": {
    "execution": {
     "iopub.execute_input": "2023-01-31T00:08:06.301554Z",
     "iopub.status.busy": "2023-01-31T00:08:06.301087Z",
     "iopub.status.idle": "2023-01-31T00:11:57.598949Z",
     "shell.execute_reply": "2023-01-31T00:11:57.597585Z"
    },
    "papermill": {
     "duration": 231.32394,
     "end_time": "2023-01-31T00:11:57.612685",
     "exception": false,
     "start_time": "2023-01-31T00:08:06.288745",
     "status": "completed"
    },
    "tags": []
   },
   "outputs": [
    {
     "name": "stdout",
     "output_type": "stream",
     "text": [
      "Fold=1, AUC score: 0.88\n",
      "Fold=2, AUC score: 0.90\n",
      "Fold=3, AUC score: 0.91\n",
      "Fold=4, AUC score: 0.89\n",
      "Fold=5, AUC score: 0.90\n",
      "Mean AUC: 0.8951748159271997\n"
     ]
    }
   ],
   "source": [
    "n_folds = 5\n",
    "seed = 42\n",
    "model = 'XGBoostClassifier'\n",
    "\n",
    "skf = StratifiedKFold(n_splits=n_folds, shuffle=True, random_state=seed)\n",
    "test_pred = 0\n",
    "\n",
    "results[model] = defaultdict(list)\n",
    "\n",
    "for idx, (train_idx, test_idx) in enumerate(skf.split(X_train, y_train)):\n",
    "    X, y = X_train.iloc[train_idx], y_train.iloc[train_idx]\n",
    "    X_valid, y_valid = X_train.iloc[test_idx], y_train.iloc[test_idx]\n",
    "\n",
    "    xgb = XGBClassifier(**xgb_params)\n",
    "\n",
    "    # Fit the model\n",
    "    xgb.fit(X, y)\n",
    "    # Predict on validation set\n",
    "    pred_proba = xgb.predict_proba(X_valid)[:, 1]\n",
    "\n",
    "    # Predict on test set\n",
    "    test_pred_proba = xgb.predict_proba(test)[:, 1]\n",
    "    test_pred += test_pred_proba/n_folds\n",
    "\n",
    "    # Calcualte AUC score\n",
    "    auc = roc_auc_score(y_valid, pred_proba)\n",
    "\n",
    "    # Feature Importance\n",
    "    feature_imp = pd.DataFrame(index=X_train.columns,\n",
    "                               data=xgb.feature_importances_,\n",
    "                               columns=[f\"{idx + 1}_importance\"])\n",
    "\n",
    "    print(f\"Fold={idx+1}, AUC score: {auc:.2f}\")\n",
    "\n",
    "    # Save Results\n",
    "    results[model]['auc'].append(auc)\n",
    "    results[model]['model'].append(lr)\n",
    "    results[model]['feature_imp'].append(feature_imp)\n",
    "\n",
    "results[model]['test_pred'] = test_pred\n",
    "print(f\"Mean AUC: {np.mean(results[model]['auc'])}\")\n"
   ]
  },
  {
   "cell_type": "code",
   "execution_count": 19,
   "id": "1d0a2242",
   "metadata": {
    "execution": {
     "iopub.execute_input": "2023-01-31T00:11:57.637082Z",
     "iopub.status.busy": "2023-01-31T00:11:57.636668Z",
     "iopub.status.idle": "2023-01-31T00:11:58.083708Z",
     "shell.execute_reply": "2023-01-31T00:11:58.082573Z"
    },
    "papermill": {
     "duration": 0.462515,
     "end_time": "2023-01-31T00:11:58.086459",
     "exception": false,
     "start_time": "2023-01-31T00:11:57.623944",
     "status": "completed"
    },
    "tags": []
   },
   "outputs": [
    {
     "data": {
      "image/png": "[encoded data removed]",
      "text/plain": [
       "<Figure size 1080x720 with 1 Axes>"
      ]
     },
     "metadata": {
      "needs_background": "light"
     },
     "output_type": "display_data"
    }
   ],
   "source": [
    "# Plot feature importance for XGBoost model\n",
    "plot_feature_imp(results[model]['feature_imp'], \"2_importance\")\n"
   ]
  },
  {
   "cell_type": "code",
   "execution_count": 20,
   "id": "cdca445e",
   "metadata": {
    "execution": {
     "iopub.execute_input": "2023-01-31T00:11:58.112768Z",
     "iopub.status.busy": "2023-01-31T00:11:58.111483Z",
     "iopub.status.idle": "2023-01-31T00:11:58.414163Z",
     "shell.execute_reply": "2023-01-31T00:11:58.412950Z"
    },
    "papermill": {
     "duration": 0.3187,
     "end_time": "2023-01-31T00:11:58.417145",
     "exception": false,
     "start_time": "2023-01-31T00:11:58.098445",
     "status": "completed"
    },
    "tags": []
   },
   "outputs": [],
   "source": [
    "# Made a submission to see how the model performs\n",
    "xgb_submission = submissions.copy()\n",
    "xgb_submission['Class'] = results[model]['test_pred']\n",
    "xgb_submission.to_csv('xgb_submission.csv', index=False)\n"
   ]
  },
  {
   "cell_type": "code",
   "execution_count": 21,
   "id": "424e0dda",
   "metadata": {
    "execution": {
     "iopub.execute_input": "2023-01-31T00:11:58.443171Z",
     "iopub.status.busy": "2023-01-31T00:11:58.442682Z",
     "iopub.status.idle": "2023-01-31T00:11:58.453599Z",
     "shell.execute_reply": "2023-01-31T00:11:58.452333Z"
    },
    "papermill": {
     "duration": 0.027654,
     "end_time": "2023-01-31T00:11:58.456542",
     "exception": false,
     "start_time": "2023-01-31T00:11:58.428888",
     "status": "completed"
    },
    "tags": []
   },
   "outputs": [
    {
     "data": {
      "text/html": [
       "<div>\n",
       "<style scoped>\n",
       "    .dataframe tbody tr th:only-of-type {\n",
       "        vertical-align: middle;\n",
       "    }\n",
       "\n",
       "    .dataframe tbody tr th {\n",
       "        vertical-align: top;\n",
       "    }\n",
       "\n",
       "    .dataframe thead th {\n",
       "        text-align: right;\n",
       "    }\n",
       "</style>\n",
       "<table border=\"1\" class=\"dataframe\">\n",
       "  <thead>\n",
       "    <tr style=\"text-align: right;\">\n",
       "      <th></th>\n",
       "      <th>id</th>\n",
       "      <th>Class</th>\n",
       "    </tr>\n",
       "  </thead>\n",
       "  <tbody>\n",
       "    <tr>\n",
       "      <th>0</th>\n",
       "      <td>219129</td>\n",
       "      <td>0.001166</td>\n",
       "    </tr>\n",
       "    <tr>\n",
       "      <th>1</th>\n",
       "      <td>219130</td>\n",
       "      <td>0.000573</td>\n",
       "    </tr>\n",
       "    <tr>\n",
       "      <th>2</th>\n",
       "      <td>219131</td>\n",
       "      <td>0.000367</td>\n",
       "    </tr>\n",
       "    <tr>\n",
       "      <th>3</th>\n",
       "      <td>219132</td>\n",
       "      <td>0.001084</td>\n",
       "    </tr>\n",
       "    <tr>\n",
       "      <th>4</th>\n",
       "      <td>219133</td>\n",
       "      <td>0.000131</td>\n",
       "    </tr>\n",
       "  </tbody>\n",
       "</table>\n",
       "</div>"
      ],
      "text/plain": [
       "       id     Class\n",
       "0  219129  0.001166\n",
       "1  219130  0.000573\n",
       "2  219131  0.000367\n",
       "3  219132  0.001084\n",
       "4  219133  0.000131"
      ]
     },
     "execution_count": 21,
     "metadata": {},
     "output_type": "execute_result"
    }
   ],
   "source": [
    "xgb_submission.head()\n"
   ]
  },
  {
   "attachments": {},
   "cell_type": "markdown",
   "id": "9aa91366",
   "metadata": {
    "papermill": {
     "duration": 0.011593,
     "end_time": "2023-01-31T00:11:58.480002",
     "exception": false,
     "start_time": "2023-01-31T00:11:58.468409",
     "status": "completed"
    },
    "tags": []
   },
   "source": [
    "### 3.3. LightGBM Classifier\n"
   ]
  },
  {
   "cell_type": "code",
   "execution_count": 22,
   "id": "e4c36abd",
   "metadata": {
    "execution": {
     "iopub.execute_input": "2023-01-31T00:11:58.506474Z",
     "iopub.status.busy": "2023-01-31T00:11:58.505351Z",
     "iopub.status.idle": "2023-01-31T00:11:58.512047Z",
     "shell.execute_reply": "2023-01-31T00:11:58.511208Z"
    },
    "papermill": {
     "duration": 0.02248,
     "end_time": "2023-01-31T00:11:58.514356",
     "exception": false,
     "start_time": "2023-01-31T00:11:58.491876",
     "status": "completed"
    },
    "tags": []
   },
   "outputs": [],
   "source": [
    "lgbm_params = {\n",
    "    'n_estimators': 500,\n",
    "    'learning_rate': 0.1,\n",
    "    'num_leaves': 195,\n",
    "    'max_depth': 9,\n",
    "    'min_data_in_leaf': 46,\n",
    "    'lambda_l1': 0.01,\n",
    "    'lambda_l2': 0.6,\n",
    "    'min_gain_to_split': 1.42,\n",
    "    'bagging_fraction': 0.45,\n",
    "    'feature_fraction': 0.3,\n",
    "    'verbosity': -1,\n",
    "    'boosting_type': 'dart',\n",
    "    'random_state': seed,\n",
    "    'objective': 'binary'\n",
    "}\n"
   ]
  },
  {
   "cell_type": "code",
   "execution_count": 23,
   "id": "c9f58ee2",
   "metadata": {
    "execution": {
     "iopub.execute_input": "2023-01-31T00:11:58.540127Z",
     "iopub.status.busy": "2023-01-31T00:11:58.539465Z",
     "iopub.status.idle": "2023-01-31T00:24:42.601665Z",
     "shell.execute_reply": "2023-01-31T00:24:42.600211Z"
    },
    "papermill": {
     "duration": 764.089406,
     "end_time": "2023-01-31T00:24:42.615490",
     "exception": false,
     "start_time": "2023-01-31T00:11:58.526084",
     "status": "completed"
    },
    "tags": []
   },
   "outputs": [
    {
     "name": "stdout",
     "output_type": "stream",
     "text": [
      "[LightGBM] [Warning] lambda_l1 is set=0.01, reg_alpha=0.0 will be ignored. Current value: lambda_l1=0.01\n",
      "[LightGBM] [Warning] bagging_fraction is set=0.45, subsample=1.0 will be ignored. Current value: bagging_fraction=0.45\n",
      "[LightGBM] [Warning] min_data_in_leaf is set=46, min_child_samples=20 will be ignored. Current value: min_data_in_leaf=46\n",
      "[LightGBM] [Warning] feature_fraction is set=0.3, colsample_bytree=1.0 will be ignored. Current value: feature_fraction=0.3\n",
      "[LightGBM] [Warning] min_gain_to_split is set=1.42, min_split_gain=0.0 will be ignored. Current value: min_gain_to_split=1.42\n",
      "[LightGBM] [Warning] lambda_l2 is set=0.6, reg_lambda=0.0 will be ignored. Current value: lambda_l2=0.6\n",
      "Fold=1, AUC score: 0.89\n",
      "[LightGBM] [Warning] lambda_l1 is set=0.01, reg_alpha=0.0 will be ignored. Current value: lambda_l1=0.01\n",
      "[LightGBM] [Warning] bagging_fraction is set=0.45, subsample=1.0 will be ignored. Current value: bagging_fraction=0.45\n",
      "[LightGBM] [Warning] min_data_in_leaf is set=46, min_child_samples=20 will be ignored. Current value: min_data_in_leaf=46\n",
      "[LightGBM] [Warning] feature_fraction is set=0.3, colsample_bytree=1.0 will be ignored. Current value: feature_fraction=0.3\n",
      "[LightGBM] [Warning] min_gain_to_split is set=1.42, min_split_gain=0.0 will be ignored. Current value: min_gain_to_split=1.42\n",
      "[LightGBM] [Warning] lambda_l2 is set=0.6, reg_lambda=0.0 will be ignored. Current value: lambda_l2=0.6\n",
      "Fold=2, AUC score: 0.90\n",
      "[LightGBM] [Warning] lambda_l1 is set=0.01, reg_alpha=0.0 will be ignored. Current value: lambda_l1=0.01\n",
      "[LightGBM] [Warning] bagging_fraction is set=0.45, subsample=1.0 will be ignored. Current value: bagging_fraction=0.45\n",
      "[LightGBM] [Warning] min_data_in_leaf is set=46, min_child_samples=20 will be ignored. Current value: min_data_in_leaf=46\n",
      "[LightGBM] [Warning] feature_fraction is set=0.3, colsample_bytree=1.0 will be ignored. Current value: feature_fraction=0.3\n",
      "[LightGBM] [Warning] min_gain_to_split is set=1.42, min_split_gain=0.0 will be ignored. Current value: min_gain_to_split=1.42\n",
      "[LightGBM] [Warning] lambda_l2 is set=0.6, reg_lambda=0.0 will be ignored. Current value: lambda_l2=0.6\n",
      "Fold=3, AUC score: 0.91\n",
      "[LightGBM] [Warning] lambda_l1 is set=0.01, reg_alpha=0.0 will be ignored. Current value: lambda_l1=0.01\n",
      "[LightGBM] [Warning] bagging_fraction is set=0.45, subsample=1.0 will be ignored. Current value: bagging_fraction=0.45\n",
      "[LightGBM] [Warning] min_data_in_leaf is set=46, min_child_samples=20 will be ignored. Current value: min_data_in_leaf=46\n",
      "[LightGBM] [Warning] feature_fraction is set=0.3, colsample_bytree=1.0 will be ignored. Current value: feature_fraction=0.3\n",
      "[LightGBM] [Warning] min_gain_to_split is set=1.42, min_split_gain=0.0 will be ignored. Current value: min_gain_to_split=1.42\n",
      "[LightGBM] [Warning] lambda_l2 is set=0.6, reg_lambda=0.0 will be ignored. Current value: lambda_l2=0.6\n",
      "Fold=4, AUC score: 0.89\n",
      "[LightGBM] [Warning] lambda_l1 is set=0.01, reg_alpha=0.0 will be ignored. Current value: lambda_l1=0.01\n",
      "[LightGBM] [Warning] bagging_fraction is set=0.45, subsample=1.0 will be ignored. Current value: bagging_fraction=0.45\n",
      "[LightGBM] [Warning] min_data_in_leaf is set=46, min_child_samples=20 will be ignored. Current value: min_data_in_leaf=46\n",
      "[LightGBM] [Warning] feature_fraction is set=0.3, colsample_bytree=1.0 will be ignored. Current value: feature_fraction=0.3\n",
      "[LightGBM] [Warning] min_gain_to_split is set=1.42, min_split_gain=0.0 will be ignored. Current value: min_gain_to_split=1.42\n",
      "[LightGBM] [Warning] lambda_l2 is set=0.6, reg_lambda=0.0 will be ignored. Current value: lambda_l2=0.6\n",
      "Fold=5, AUC score: 0.90\n",
      "Mean AUC: 0.8997556737837178\n"
     ]
    }
   ],
   "source": [
    "n_folds = 5\n",
    "seed = 42\n",
    "model = 'LGBMClassifier'\n",
    "\n",
    "skf = StratifiedKFold(n_splits=n_folds, shuffle=True, random_state=seed)\n",
    "test_pred = 0\n",
    "\n",
    "results[model] = defaultdict(list)\n",
    "\n",
    "for idx, (train_idx, test_idx) in enumerate(skf.split(X_train, y_train)):\n",
    "    X, y = X_train.iloc[train_idx], y_train.iloc[train_idx]\n",
    "    X_valid, y_valid = X_train.iloc[test_idx], y_train.iloc[test_idx]\n",
    "\n",
    "    lgbm = LGBMClassifier(**lgbm_params)\n",
    "\n",
    "    # Fit the model\n",
    "    lgbm.fit(X, y)\n",
    "    # Predict on validation set\n",
    "    pred_proba = lgbm.predict_proba(X_valid)[:, 1]\n",
    "\n",
    "    # Predict on test set\n",
    "    test_pred_proba = lgbm.predict_proba(test)[:, 1]\n",
    "    test_pred += test_pred_proba/n_folds\n",
    "\n",
    "    # Calcualte AUC score\n",
    "    auc = roc_auc_score(y_valid, pred_proba)\n",
    "\n",
    "    # Feature Importance\n",
    "    feature_imp = pd.DataFrame(index=X_train.columns,\n",
    "                               data=lgbm.feature_importances_,\n",
    "                               columns=[f\"{idx + 1}_importance\"])\n",
    "\n",
    "    print(f\"Fold={idx+1}, AUC score: {auc:.2f}\")\n",
    "\n",
    "    # Save Results\n",
    "    results[model]['auc'].append(auc)\n",
    "    results[model]['model'].append(lr)\n",
    "    results[model]['feature_imp'].append(feature_imp)\n",
    "\n",
    "results[model]['test_pred'] = test_pred\n",
    "print(f\"Mean AUC: {np.mean(results[model]['auc'])}\")\n"
   ]
  },
  {
   "cell_type": "code",
   "execution_count": 24,
   "id": "dfd4e63c",
   "metadata": {
    "execution": {
     "iopub.execute_input": "2023-01-31T00:24:42.642411Z",
     "iopub.status.busy": "2023-01-31T00:24:42.641994Z",
     "iopub.status.idle": "2023-01-31T00:24:43.233394Z",
     "shell.execute_reply": "2023-01-31T00:24:43.232217Z"
    },
    "papermill": {
     "duration": 0.608029,
     "end_time": "2023-01-31T00:24:43.235839",
     "exception": false,
     "start_time": "2023-01-31T00:24:42.627810",
     "status": "completed"
    },
    "tags": []
   },
   "outputs": [
    {
     "data": {
      "image/png": "[encoded data removed]",
      "text/plain": [
       "<Figure size 1080x720 with 1 Axes>"
      ]
     },
     "metadata": {
      "needs_background": "light"
     },
     "output_type": "display_data"
    }
   ],
   "source": [
    "# Plot feature importance for LightGBM model\n",
    "plot_feature_imp(results[model]['feature_imp'], \"4_importance\")\n"
   ]
  },
  {
   "cell_type": "code",
   "execution_count": 25,
   "id": "d673c670",
   "metadata": {
    "execution": {
     "iopub.execute_input": "2023-01-31T00:24:43.263490Z",
     "iopub.status.busy": "2023-01-31T00:24:43.263040Z",
     "iopub.status.idle": "2023-01-31T00:24:43.632980Z",
     "shell.execute_reply": "2023-01-31T00:24:43.631852Z"
    },
    "papermill": {
     "duration": 0.386842,
     "end_time": "2023-01-31T00:24:43.635687",
     "exception": false,
     "start_time": "2023-01-31T00:24:43.248845",
     "status": "completed"
    },
    "tags": []
   },
   "outputs": [],
   "source": [
    "# Made a submission to see how the model performs\n",
    "lgbm_submission = submissions.copy()\n",
    "lgbm_submission['Class'] = results[model]['test_pred']\n",
    "lgbm_submission.to_csv('lgbm_submission.csv', index=False)\n"
   ]
  },
  {
   "cell_type": "code",
   "execution_count": 26,
   "id": "baf19f54",
   "metadata": {
    "execution": {
     "iopub.execute_input": "2023-01-31T00:24:43.664292Z",
     "iopub.status.busy": "2023-01-31T00:24:43.663862Z",
     "iopub.status.idle": "2023-01-31T00:24:43.674603Z",
     "shell.execute_reply": "2023-01-31T00:24:43.673435Z"
    },
    "papermill": {
     "duration": 0.027934,
     "end_time": "2023-01-31T00:24:43.676711",
     "exception": false,
     "start_time": "2023-01-31T00:24:43.648777",
     "status": "completed"
    },
    "tags": []
   },
   "outputs": [
    {
     "data": {
      "text/html": [
       "<div>\n",
       "<style scoped>\n",
       "    .dataframe tbody tr th:only-of-type {\n",
       "        vertical-align: middle;\n",
       "    }\n",
       "\n",
       "    .dataframe tbody tr th {\n",
       "        vertical-align: top;\n",
       "    }\n",
       "\n",
       "    .dataframe thead th {\n",
       "        text-align: right;\n",
       "    }\n",
       "</style>\n",
       "<table border=\"1\" class=\"dataframe\">\n",
       "  <thead>\n",
       "    <tr style=\"text-align: right;\">\n",
       "      <th></th>\n",
       "      <th>id</th>\n",
       "      <th>Class</th>\n",
       "    </tr>\n",
       "  </thead>\n",
       "  <tbody>\n",
       "    <tr>\n",
       "      <th>0</th>\n",
       "      <td>219129</td>\n",
       "      <td>0.001045</td>\n",
       "    </tr>\n",
       "    <tr>\n",
       "      <th>1</th>\n",
       "      <td>219130</td>\n",
       "      <td>0.000622</td>\n",
       "    </tr>\n",
       "    <tr>\n",
       "      <th>2</th>\n",
       "      <td>219131</td>\n",
       "      <td>0.000337</td>\n",
       "    </tr>\n",
       "    <tr>\n",
       "      <th>3</th>\n",
       "      <td>219132</td>\n",
       "      <td>0.000817</td>\n",
       "    </tr>\n",
       "    <tr>\n",
       "      <th>4</th>\n",
       "      <td>219133</td>\n",
       "      <td>0.000307</td>\n",
       "    </tr>\n",
       "  </tbody>\n",
       "</table>\n",
       "</div>"
      ],
      "text/plain": [
       "       id     Class\n",
       "0  219129  0.001045\n",
       "1  219130  0.000622\n",
       "2  219131  0.000337\n",
       "3  219132  0.000817\n",
       "4  219133  0.000307"
      ]
     },
     "execution_count": 26,
     "metadata": {},
     "output_type": "execute_result"
    }
   ],
   "source": [
    "lgbm_submission.head()\n"
   ]
  },
  {
   "attachments": {},
   "cell_type": "markdown",
   "id": "0cdb5cf4",
   "metadata": {
    "papermill": {
     "duration": 0.012972,
     "end_time": "2023-01-31T00:24:43.702723",
     "exception": false,
     "start_time": "2023-01-31T00:24:43.689751",
     "status": "completed"
    },
    "tags": []
   },
   "source": [
    "### 3.4. CatBoot Classifier\n"
   ]
  },
  {
   "cell_type": "code",
   "execution_count": 27,
   "id": "454e29a6",
   "metadata": {
    "execution": {
     "iopub.execute_input": "2023-01-31T00:24:43.730300Z",
     "iopub.status.busy": "2023-01-31T00:24:43.729891Z",
     "iopub.status.idle": "2023-01-31T00:24:43.735957Z",
     "shell.execute_reply": "2023-01-31T00:24:43.734894Z"
    },
    "papermill": {
     "duration": 0.022421,
     "end_time": "2023-01-31T00:24:43.738242",
     "exception": false,
     "start_time": "2023-01-31T00:24:43.715821",
     "status": "completed"
    },
    "tags": []
   },
   "outputs": [],
   "source": [
    "catboost_params = {\n",
    "    'n_estimators': 500,\n",
    "    'learning_rate': 0.1,\n",
    "    'one_hot_max_size': 12,\n",
    "    'depth': 9,\n",
    "    'l2_leaf_reg': 0.6,\n",
    "    'colsample_bylevel': 0.06,\n",
    "    'min_data_in_leaf': 12,\n",
    "    'bootstrap_type': 'Bernoulli',\n",
    "    'verbose': False,\n",
    "    'random_state': seed,\n",
    "    'objective': 'Logloss',\n",
    "    'eval_metric': 'AUC'\n",
    "}\n"
   ]
  },
  {
   "cell_type": "code",
   "execution_count": 28,
   "id": "c9b3cebd",
   "metadata": {
    "execution": {
     "iopub.execute_input": "2023-01-31T00:24:43.766431Z",
     "iopub.status.busy": "2023-01-31T00:24:43.765794Z",
     "iopub.status.idle": "2023-01-31T00:26:27.341855Z",
     "shell.execute_reply": "2023-01-31T00:26:27.340194Z"
    },
    "papermill": {
     "duration": 103.594006,
     "end_time": "2023-01-31T00:26:27.345141",
     "exception": false,
     "start_time": "2023-01-31T00:24:43.751135",
     "status": "completed"
    },
    "tags": []
   },
   "outputs": [
    {
     "name": "stdout",
     "output_type": "stream",
     "text": [
      "Fold=1, AUC score: 0.87\n",
      "Fold=2, AUC score: 0.88\n",
      "Fold=3, AUC score: 0.88\n",
      "Fold=4, AUC score: 0.89\n",
      "Fold=5, AUC score: 0.89\n",
      "Mean AUC: 0.877921430469104\n"
     ]
    }
   ],
   "source": [
    "n_folds = 5\n",
    "seed = 42\n",
    "model = 'CatBoostClassifier'\n",
    "\n",
    "skf = StratifiedKFold(n_splits=n_folds, shuffle=True, random_state=seed)\n",
    "test_pred = 0\n",
    "\n",
    "results[model] = defaultdict(list)\n",
    "\n",
    "for idx, (train_idx, test_idx) in enumerate(skf.split(X_train, y_train)):\n",
    "    X, y = X_train.iloc[train_idx], y_train.iloc[train_idx]\n",
    "    X_valid, y_valid = X_train.iloc[test_idx], y_train.iloc[test_idx]\n",
    "\n",
    "    catb = CatBoostClassifier(**catboost_params)\n",
    "\n",
    "    # Fit the model\n",
    "    catb.fit(X, y)\n",
    "    # Predict on validation set\n",
    "    pred_proba = catb.predict_proba(X_valid)[:, 1]\n",
    "\n",
    "    # Predict on test set\n",
    "    test_pred_proba = catb.predict_proba(test)[:, 1]\n",
    "    test_pred += test_pred_proba/n_folds\n",
    "\n",
    "    # Calcualte AUC score\n",
    "    auc = roc_auc_score(y_valid, pred_proba)\n",
    "\n",
    "    # Feature Importance\n",
    "    feature_imp = pd.DataFrame(index=X_train.columns,\n",
    "                               data=catb.feature_importances_,\n",
    "                               columns=[f\"{idx + 1}_importance\"])\n",
    "\n",
    "    print(f\"Fold={idx+1}, AUC score: {auc:.2f}\")\n",
    "\n",
    "    # Save Results\n",
    "    results[model]['auc'].append(auc)\n",
    "    results[model]['model'].append(lr)\n",
    "    results[model]['feature_imp'].append(feature_imp)\n",
    "\n",
    "results[model]['test_pred'] = test_pred\n",
    "print(f\"Mean AUC: {np.mean(results[model]['auc'])}\")\n"
   ]
  },
  {
   "cell_type": "code",
   "execution_count": 29,
   "id": "4147ae3a",
   "metadata": {
    "execution": {
     "iopub.execute_input": "2023-01-31T00:26:27.373823Z",
     "iopub.status.busy": "2023-01-31T00:26:27.373409Z",
     "iopub.status.idle": "2023-01-31T00:26:27.815100Z",
     "shell.execute_reply": "2023-01-31T00:26:27.813966Z"
    },
    "papermill": {
     "duration": 0.458628,
     "end_time": "2023-01-31T00:26:27.817640",
     "exception": false,
     "start_time": "2023-01-31T00:26:27.359012",
     "status": "completed"
    },
    "tags": []
   },
   "outputs": [
    {
     "data": {
      "image/png": "[encoded data removed]",
      "text/plain": [
       "<Figure size 1080x720 with 1 Axes>"
      ]
     },
     "metadata": {
      "needs_background": "light"
     },
     "output_type": "display_data"
    }
   ],
   "source": [
    "# Plot feature importance for CatBoost model\n",
    "plot_feature_imp(results[model]['feature_imp'], \"2_importance\")\n"
   ]
  },
  {
   "cell_type": "code",
   "execution_count": 30,
   "id": "59e072d2",
   "metadata": {
    "execution": {
     "iopub.execute_input": "2023-01-31T00:26:27.848463Z",
     "iopub.status.busy": "2023-01-31T00:26:27.847180Z",
     "iopub.status.idle": "2023-01-31T00:26:28.224119Z",
     "shell.execute_reply": "2023-01-31T00:26:28.222671Z"
    },
    "papermill": {
     "duration": 0.395296,
     "end_time": "2023-01-31T00:26:28.227192",
     "exception": false,
     "start_time": "2023-01-31T00:26:27.831896",
     "status": "completed"
    },
    "tags": []
   },
   "outputs": [],
   "source": [
    "# Made a submission to see how the model performs\n",
    "catb_submission = submissions.copy()\n",
    "catb_submission['Class'] = results[model]['test_pred']\n",
    "catb_submission.to_csv('catb_submission.csv', index=False)\n"
   ]
  },
  {
   "cell_type": "code",
   "execution_count": 31,
   "id": "ddccb435",
   "metadata": {
    "execution": {
     "iopub.execute_input": "2023-01-31T00:26:28.258931Z",
     "iopub.status.busy": "2023-01-31T00:26:28.257671Z",
     "iopub.status.idle": "2023-01-31T00:26:28.271043Z",
     "shell.execute_reply": "2023-01-31T00:26:28.269924Z"
    },
    "papermill": {
     "duration": 0.031789,
     "end_time": "2023-01-31T00:26:28.273614",
     "exception": false,
     "start_time": "2023-01-31T00:26:28.241825",
     "status": "completed"
    },
    "tags": []
   },
   "outputs": [
    {
     "data": {
      "text/html": [
       "<div>\n",
       "<style scoped>\n",
       "    .dataframe tbody tr th:only-of-type {\n",
       "        vertical-align: middle;\n",
       "    }\n",
       "\n",
       "    .dataframe tbody tr th {\n",
       "        vertical-align: top;\n",
       "    }\n",
       "\n",
       "    .dataframe thead th {\n",
       "        text-align: right;\n",
       "    }\n",
       "</style>\n",
       "<table border=\"1\" class=\"dataframe\">\n",
       "  <thead>\n",
       "    <tr style=\"text-align: right;\">\n",
       "      <th></th>\n",
       "      <th>id</th>\n",
       "      <th>Class</th>\n",
       "    </tr>\n",
       "  </thead>\n",
       "  <tbody>\n",
       "    <tr>\n",
       "      <th>0</th>\n",
       "      <td>219129</td>\n",
       "      <td>0.000671</td>\n",
       "    </tr>\n",
       "    <tr>\n",
       "      <th>1</th>\n",
       "      <td>219130</td>\n",
       "      <td>0.000433</td>\n",
       "    </tr>\n",
       "    <tr>\n",
       "      <th>2</th>\n",
       "      <td>219131</td>\n",
       "      <td>0.000124</td>\n",
       "    </tr>\n",
       "    <tr>\n",
       "      <th>3</th>\n",
       "      <td>219132</td>\n",
       "      <td>0.000599</td>\n",
       "    </tr>\n",
       "    <tr>\n",
       "      <th>4</th>\n",
       "      <td>219133</td>\n",
       "      <td>0.000103</td>\n",
       "    </tr>\n",
       "  </tbody>\n",
       "</table>\n",
       "</div>"
      ],
      "text/plain": [
       "       id     Class\n",
       "0  219129  0.000671\n",
       "1  219130  0.000433\n",
       "2  219131  0.000124\n",
       "3  219132  0.000599\n",
       "4  219133  0.000103"
      ]
     },
     "execution_count": 31,
     "metadata": {},
     "output_type": "execute_result"
    }
   ],
   "source": [
    "catb_submission.head()\n"
   ]
  },
  {
   "attachments": {},
   "cell_type": "markdown",
   "id": "ae35cd22",
   "metadata": {
    "papermill": {
     "duration": 0.013693,
     "end_time": "2023-01-31T00:26:28.301334",
     "exception": false,
     "start_time": "2023-01-31T00:26:28.287641",
     "status": "completed"
    },
    "tags": []
   },
   "source": [
    "### 3.5. Ensemble Results\n"
   ]
  },
  {
   "cell_type": "code",
   "execution_count": 32,
   "id": "8600b3a1",
   "metadata": {
    "execution": {
     "iopub.execute_input": "2023-01-31T00:26:28.331925Z",
     "iopub.status.busy": "2023-01-31T00:26:28.330662Z",
     "iopub.status.idle": "2023-01-31T00:26:28.701156Z",
     "shell.execute_reply": "2023-01-31T00:26:28.699931Z"
    },
    "papermill": {
     "duration": 0.388445,
     "end_time": "2023-01-31T00:26:28.703974",
     "exception": false,
     "start_time": "2023-01-31T00:26:28.315529",
     "status": "completed"
    },
    "tags": []
   },
   "outputs": [],
   "source": [
    "a = 0.1\n",
    "b = 0.4\n",
    "c = 0.3\n",
    "d = 0.2\n",
    "\n",
    "pred = a * lr_submission['Class'] + b * xgb_submission['Class'] + \\\n",
    "    c * lgbm_submission['Class'] + d * catb_submission['Class']\n",
    "\n",
    "# Made a submission to see how the model performs\n",
    "submission = submissions.copy()\n",
    "submission['Class'] = pred\n",
    "submission.to_csv('submission_CatB.csv', index=False)\n"
   ]
  },
  {
   "cell_type": "code",
   "execution_count": 33,
   "id": "50cb2fdc",
   "metadata": {
    "execution": {
     "iopub.execute_input": "2023-01-31T00:26:28.734495Z",
     "iopub.status.busy": "2023-01-31T00:26:28.733362Z",
     "iopub.status.idle": "2023-01-31T00:26:29.103914Z",
     "shell.execute_reply": "2023-01-31T00:26:29.103058Z"
    },
    "papermill": {
     "duration": 0.388773,
     "end_time": "2023-01-31T00:26:29.106921",
     "exception": false,
     "start_time": "2023-01-31T00:26:28.718148",
     "status": "completed"
    },
    "tags": []
   },
   "outputs": [],
   "source": [
    "a = 0\n",
    "b = 0.4\n",
    "c = 0.4\n",
    "d = 0.2\n",
    "\n",
    "pred = a * lr_submission['Class'] + b * xgb_submission['Class'] + \\\n",
    "    c * lgbm_submission['Class'] + d * catb_submission['Class']\n",
    "\n",
    "# Made a submission to see how the model performs\n",
    "submission = submissions.copy()\n",
    "submission['Class'] = pred\n",
    "submission.to_csv('submission_noLR.csv', index=False)\n"
   ]
  },
  {
   "attachments": {},
   "cell_type": "markdown",
   "id": "0d7c126d",
   "metadata": {
    "papermill": {
     "duration": 0.013676,
     "end_time": "2023-01-31T00:26:29.134843",
     "exception": false,
     "start_time": "2023-01-31T00:26:29.121167",
     "status": "completed"
    },
    "tags": []
   },
   "source": [
    "## 4. Conclusion\n",
    "\n",
    "Thank you for reading so far and I hope you found this notebook helpful.\n",
    "\n",
    "Upvote if you liked it, comment if you loved it. Hope to see you guys in the next one. Peace!\n"
   ]
  },
  {
   "cell_type": "code",
   "execution_count": null,
   "id": "69b8521f",
   "metadata": {
    "papermill": {
     "duration": 0.014116,
     "end_time": "2023-01-31T00:26:29.162956",
     "exception": false,
     "start_time": "2023-01-31T00:26:29.148840",
     "status": "completed"
    },
    "tags": []
   },
   "outputs": [],
   "source": []
  }
 ],
 "metadata": {
  "kernelspec": {
   "display_name": "Python 3 (ipykernel)",
   "language": "python",
   "name": "python3"
  },
  "language_info": {
   "codemirror_mode": {
    "name": "ipython",
    "version": 3
   },
   "file_extension": ".py",
   "mimetype": "text/x-python",
   "name": "python",
   "nbconvert_exporter": "python",
   "pygments_lexer": "ipython3",
   "version": "3.9.13"
  },
  "papermill": {
   "default_parameters": {},
   "duration": 1163.270197,
   "end_time": "2023-01-31T00:26:30.102029",
   "environment_variables": {},
   "exception": null,
   "input_path": "__notebook__.ipynb",
   "output_path": "__notebook__.ipynb",
   "parameters": {},
   "start_time": "2023-01-31T00:07:06.831832",
   "version": "2.3.4"
  },
  "vscode": {
   "interpreter": {
    "hash": "fd445e0a0df0ef733fdb8c310832b941832eb7caa98a80420cc6aa033e01117c"
   }
  }
 },
 "nbformat": 4,
 "nbformat_minor": 5
}
